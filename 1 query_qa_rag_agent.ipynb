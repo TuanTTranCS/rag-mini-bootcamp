{
 "cells": [
  {
   "cell_type": "markdown",
   "metadata": {},
   "source": [
    "### Run this cell first\n",
    "This code cell enables import autoreloading, which makes it so you don't have to restart the notebook kernel every time you edit a Python file."
   ]
  },
  {
   "cell_type": "code",
   "execution_count": 1,
   "metadata": {},
   "outputs": [],
   "source": [
    "%load_ext autoreload\n",
    "%autoreload 2"
   ]
  },
  {
   "cell_type": "markdown",
   "metadata": {},
   "source": [
    "### Cheat Code Usage\n",
    "Throughout these tutorial notebooks, you'll see imports from `cheat_code` and `workshop_code` like this: `from cheat_code.agents import NaiveQaRagAgent`\n",
    "\n",
    "`cheat_code` is the completed workshop code, which serves two purposes. First, you can run it to test the intended outputs of the `workshop_code` you'll be writing. Second, it can be referenced if you run out of time for a workshop exercise.\n",
    "\n",
    "`workshop_code` is almost the same as `cheat_code`, except it has Python methods that need their implementation finished by you.\n",
    "\n",
    "### Repo Structure\n",
    "```\n",
    ".\n",
    "├── .devcontainer  # Docker environment config files\n",
    "├── 1 query_qa_rag_agent.ipynb  # Start here. Use to check your environment works.\n",
    "├── 2 indexer.ipynb  # Tutorial 2\n",
    "├── 3 retriever.ipynb  # Tutorial 3\n",
    "├── 4 generator.ipynb  # Tutorial 4\n",
    "├── 5 summary.ipynb  # Tutorial 5\n",
    "├── LICENSE\n",
    "├── README.md\n",
    "├── cheat_code  # Completed, working code you can cheat off of if you get stuck\n",
    "├── data  # Nothing useful in here for now\n",
    "├── requirements.txt  # Python packages\n",
    "└── workshop_code  # The code you will edit in the tutorials\n",
    "```\n",
    "\n",
    "### Task: Run the cheat code\n",
    "Run the code block below. If your development environment is configured correctly, it should give a reasonable output."
   ]
  },
  {
   "cell_type": "code",
   "execution_count": null,
   "metadata": {},
   "outputs": [],
   "source": [
    "from cheat_code.agents import NaiveQaRagAgent\n",
    "from IPython.display import Markdown\n",
    "import time\n",
    "\n",
    "def display_md(content):\n",
    "  display(Markdown(content))\n",
    "\n",
    "doc_uri = \"https://arxiv.org/html/2312.10997v5\"\n",
    "\n",
    "qa_agent = NaiveQaRagAgent()\n",
    "qa_agent.index(doc_uri)\n",
    "time.sleep(5)\n",
    "question = \"What is naive RAG?\"\n",
    "completion = qa_agent.query(question)\n",
    "display_md(completion)"
   ]
  }
 ],
 "metadata": {
  "kernelspec": {
   "display_name": "venv",
   "language": "python",
   "name": "python3"
  },
  "language_info": {
   "codemirror_mode": {
    "name": "ipython",
    "version": 3
   },
   "file_extension": ".py",
   "mimetype": "text/x-python",
   "name": "python",
   "nbconvert_exporter": "python",
   "pygments_lexer": "ipython3",
   "version": "3.12.3"
  }
 },
 "nbformat": 4,
 "nbformat_minor": 2
}

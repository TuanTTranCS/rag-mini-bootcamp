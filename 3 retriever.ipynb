{
 "cells": [
  {
   "cell_type": "markdown",
   "metadata": {},
   "source": [
    "### Run this first"
   ]
  },
  {
   "cell_type": "code",
   "execution_count": null,
   "metadata": {},
   "outputs": [],
   "source": [
    "%load_ext autoreload\n",
    "%autoreload 2"
   ]
  },
  {
   "cell_type": "markdown",
   "metadata": {},
   "source": [
    "# Retrievers & retrievers.py\n",
    "In order to retrieve relevant chunks of text from the vector database, we must first vectorize our query using the same model we created our text chunk embeddings with. We then give that query vector to the vector database. The vector database uses the query vector to perform a cosine similarity search for the most similar text chunks.\n",
    "\n",
    "If you've already run your indexer, the below code should work:"
   ]
  },
  {
   "cell_type": "code",
   "execution_count": null,
   "metadata": {},
   "outputs": [],
   "source": [
    "from cheat_code.common_components.vectorizers import Vectorizer\n",
    "from cheat_code.common_components.vectordb_client_adapters import PineconeClientAdapter\n",
    "\n",
    "vectorizer = Vectorizer()\n",
    "client_adapter = PineconeClientAdapter()\n",
    "\n",
    "query = \"How is Naive RAG different from Advanced RAG?\"\n",
    "query_vector = vectorizer.vectorize_query(query)\n",
    "retrieved_chunks_list = client_adapter.retrieve(query_vector, k=2)\n",
    "\n",
    "print(retrieved_chunks_list[0][0:1000])\n",
    "print(\"\\n====================================\\n\")\n",
    "print(retrieved_chunks_list[1][0:1000])"
   ]
  },
  {
   "cell_type": "markdown",
   "metadata": {},
   "source": [
    "## Retriever task #1: implement vectorize_query() in workshop_code/common_components/vectorizers.py\n",
    "This should be easy because it's essentially a simpler version of `vectorize_text_chunks()`, which you've already completed."
   ]
  },
  {
   "cell_type": "code",
   "execution_count": null,
   "metadata": {},
   "outputs": [],
   "source": [
    "from workshop_code.common_components.vectorizers import Vectorizer\n",
    "from workshop_code.common_components.vectordb_client_adapters import PineconeClientAdapter\n",
    "\n",
    "vectorizer = Vectorizer()\n",
    "client_adapter = PineconeClientAdapter()\n",
    "\n",
    "query = \"How is Naive RAG different from Advanced RAG?\"\n",
    "query_vector = vectorizer.vectorize_query(query)\n",
    "retrieved_chunks_list = client_adapter.retrieve(query_vector, k=2)\n",
    "\n",
    "print(retrieved_chunks_list[0][0:1000])\n",
    "print(\"\\n====================================\\n\")\n",
    "print(retrieved_chunks_list[1][0:1000])"
   ]
  },
  {
   "cell_type": "markdown",
   "metadata": {},
   "source": [
    "## Retriever task #2: understand `retrievers.py`\n",
    "Look over the code of `retrievers.py`. If something doesn't make sense, ask one of us."
   ]
  }
 ],
 "metadata": {
  "kernelspec": {
   "display_name": "venv",
   "language": "python",
   "name": "python3"
  },
  "language_info": {
   "codemirror_mode": {
    "name": "ipython",
    "version": 3
   },
   "file_extension": ".py",
   "mimetype": "text/x-python",
   "name": "python",
   "nbconvert_exporter": "python",
   "pygments_lexer": "ipython3",
   "version": "3.12.3"
  }
 },
 "nbformat": 4,
 "nbformat_minor": 2
}

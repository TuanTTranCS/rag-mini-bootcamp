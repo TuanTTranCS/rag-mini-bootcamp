{
 "cells": [
  {
   "cell_type": "markdown",
   "metadata": {},
   "source": [
    "# Run First"
   ]
  },
  {
   "cell_type": "code",
   "execution_count": 1,
   "metadata": {},
   "outputs": [],
   "source": [
    "%load_ext autoreload\n",
    "%autoreload 2\n",
    "\n",
    "from IPython.display import Markdown\n",
    "\n",
    "def display_md(content):\n",
    "  display(Markdown(content))"
   ]
  },
  {
   "cell_type": "markdown",
   "metadata": {},
   "source": [
    "# Naive Indexer Architecture\n",
    "In this course, we are indexing a small number of HTML files. However, in production situations, you're likely to encounter some situations that significantly increase the complexity of accurate indexing:  \n",
    "- PDFs contain much of the world's unstructured data\n",
    "- Parsing PDFs with vision can require layout understanding, which is not a generally solved problem\n",
    "- PDFs often contain tables, graphics, footnotes, equations, etc that require special handling\n",
    "- Many business cases require indexing highly heterogenous document layouts\n",
    "\n",
    "Since accurately indexing files is the beginning of your inference pipeline, this is often one of the most consequential engineering problems to perform well at.\n",
    "\n",
    "## loaders.py\n",
    "Look at `./workshop-code/indexer_components/loaders.py`\n",
    "\n",
    "The function here is pretty simple. It downloads a file at a specified URI, then saves it to a cache so it doesn't need to be downloaded on each subsequent run in the notebook. The preprocessor will consume this file in the next step. \n",
    "\n",
    "### Task: Read the Code\n",
    "This part isn't interesting, so just look at the code and understand what it does. If you have any questions, let one of us know.\n",
    "\n",
    "Note that the proper way to do caching is by using the HTTP response's `ETag`, `Last-Modified`, and `Cache-Control` headers, but I didn't do that here. If you want extra credit, feel free to send me a pull request with the corrected code.\n",
    "\n",
    "## preprocessors.py\n",
    "Look at `./workshop-code/indexer_components/preprocessors.py`\n",
    "\n",
    "In order to reduce inference costs, we want to strip away all of the HTML syntax besides the human-readable body text of the documents. This is a design decision. In real life, you may, for example, preserve more of the HTML markup to reain the context of how the document is structured.\n",
    "\n",
    "### Easy Task: Configure Beautiful Soup for A Simply Structured Blog Post\n",
    "\n",
    "The unprocessed HTML blog post looks like this:"
   ]
  },
  {
   "cell_type": "code",
   "execution_count": 2,
   "metadata": {},
   "outputs": [
    {
     "data": {
      "text/markdown": [
       "tle\" content=\"LLM Powered Autonomous Agents\" />\n",
       "<meta property=\"og:description\" content=\"Building agents with LLM (large language model) as its core controller is a cool concept. Several proof-of-concepts demos, such as AutoGPT, GPT-Engineer and BabyAGI, serve as inspiring examples. The potentiality of LLM extends beyond generating well-written copies, stories, essays and programs; it can be frame"
      ],
      "text/plain": [
       "<IPython.core.display.Markdown object>"
      ]
     },
     "metadata": {},
     "output_type": "display_data"
    }
   ],
   "source": [
    "from workshop_code.indexer_components.loaders       import DocLoader\n",
    "\n",
    "blog_post_uri = \"https://lilianweng.github.io/posts/2023-06-23-agent/\"\n",
    "doc_content = DocLoader.load_html(blog_post_uri)\n",
    "display_md(doc_content[3400:3800])"
   ]
  },
  {
   "cell_type": "markdown",
   "metadata": {},
   "source": [
    "The processed HTML blog post should like like this:"
   ]
  },
  {
   "cell_type": "code",
   "execution_count": 3,
   "metadata": {},
   "outputs": [
    {
     "data": {
      "text/markdown": [
       "\n",
       "\n",
       "      LLM Powered Autonomous Agents\n",
       "    \n",
       "Date: June 23, 2023  |  Estimated Reading Time: 31 min  |  Author: Lilian Weng\n",
       "\n",
       "\n",
       "Building agents with LLM (large language model) as its core controller is a cool concept. Several proof-of-concepts demos, such as AutoGPT, GPT-Engineer and BabyAGI, serve as inspiring examples. The potentiality of LLM extends beyond generating well-written copies, stories, essays and programs; it can be framed as a powerful general problem solver.\n",
       "Agent System Overview#\n",
       "In a LLM-powered autonomous agent system, LLM functions as the agent’s brain, complemented by several key components:\n",
       "\n",
       "Planning\n",
       "\n",
       "Subgoal and decomposition: The agent breaks down large tasks into smaller, manageable subgoals, enabling efficient handling of complex tasks.\n",
       "Reflection and refinement: The agent can do self-criticism and self-reflection over past actions, learn from mistakes and refine them for future steps, thereby improving the quality of final results.\n",
       "\n",
       "\n",
       "Memory\n",
       "\n",
       "Short-term memory: I "
      ],
      "text/plain": [
       "<IPython.core.display.Markdown object>"
      ]
     },
     "metadata": {},
     "output_type": "display_data"
    }
   ],
   "source": [
    "from cheat_code.indexer_components.loaders       import DocLoader\n",
    "from cheat_code.indexer_components.preprocessors import GithubBlogpostPreprocessor\n",
    "\n",
    "blog_post_uri = \"https://lilianweng.github.io/posts/2023-06-23-agent/\"\n",
    "blog_post_html = DocLoader.load_html(blog_post_uri)\n",
    "preprocessor = GithubBlogpostPreprocessor()\n",
    "cleaned_doc_content = preprocessor.get_text(blog_post_html)\n",
    "\n",
    "display_md(cleaned_doc_content[0:1000])"
   ]
  },
  {
   "cell_type": "markdown",
   "metadata": {},
   "source": [
    "Complete the method `GithubBlogpostPreprocessor.get_text()` in `./workshop_code/preprocessors.py` such that the `cleaned_text` looks like the above output."
   ]
  },
  {
   "cell_type": "code",
   "execution_count": 4,
   "metadata": {},
   "outputs": [
    {
     "data": {
      "text/markdown": [
       "\n",
       "\n",
       "      LLM Powered Autonomous Agents\n",
       "    \n",
       "Date: June 23, 2023  |  Estimated Reading Time: 31 min  |  Author: Lilian Weng\n",
       "\n",
       "\n",
       "Building agents with LLM (large language model) as its core controller is a cool concept. Several proof-of-concepts demos, such as AutoGPT, GPT-Engineer and BabyAGI, serve as inspiring examples. The potentiality of LLM extends beyond generating well-written copies, stories, essays and programs; it can be framed as a powerful general problem solver.\n",
       "Agent System Overview#\n",
       "In a LLM-powered autonomous agent system, LLM functions as the agent’s brain, complemented by several key components:\n",
       "\n",
       "Planning\n",
       "\n",
       "Subgoal and decomposition: The agent breaks down large tasks into smaller, manageable subgoals, enabling efficient handling of complex tasks.\n",
       "Reflection and refinement: The agent can do self-criticism and self-reflection over past actions, learn from mistakes and refine them for future steps, thereby improving the quality of final results.\n",
       "\n",
       "\n",
       "Memory\n",
       "\n",
       "Short-term memory: I "
      ],
      "text/plain": [
       "<IPython.core.display.Markdown object>"
      ]
     },
     "metadata": {},
     "output_type": "display_data"
    }
   ],
   "source": [
    "from workshop_code.indexer_components.loaders       import DocLoader\n",
    "from workshop_code.indexer_components.preprocessors import GithubBlogpostPreprocessor\n",
    "\n",
    "blog_post_uri = \"https://lilianweng.github.io/posts/2023-06-23-agent/\"\n",
    "blog_post_html = DocLoader.load_html(blog_post_uri)\n",
    "preprocessor = GithubBlogpostPreprocessor()\n",
    "cleaned_doc_content = preprocessor.get_text(blog_post_html)\n",
    "\n",
    "display_md(cleaned_doc_content[0:1000])"
   ]
  },
  {
   "cell_type": "markdown",
   "metadata": {},
   "source": [
    "## More Realistic BeautifulSoup Task: Copy or Write a Preprocessor for the RAG Survey Paper\n",
    "I suggest just copying the cheat code. Writing this whole preprocessor will take the rest of the session.\n",
    "\n",
    "The HTML structure of the Arxiv paper is more complex than the blog post. You can try implementing some of `ArxivHtmlPaperPreprocessor` to see for yourself. But, I suggest just copying the cheat-code. \n",
    "\n",
    "Here is the working implementation:"
   ]
  },
  {
   "cell_type": "code",
   "execution_count": 5,
   "metadata": {},
   "outputs": [
    {
     "data": {
      "text/markdown": [
       "Retrieval-Augmented Generation for Large Language Models: A Survey\n",
       "\n",
       "Yunfan Gao: Shanghai Research Institute for Intelligent Autonomous Systems, Tongji University\n",
       "\n",
       "\n",
       "Yun Xiong: Shanghai Key Laboratory of Data Science, School of Computer Science, Fudan University\n",
       "\n",
       "\n",
       "Xinyu Gao: Shanghai Key Laboratory of Data Science, School of Computer Science, Fudan University\n",
       "\n",
       "\n",
       "Kangxiang Jia: Shanghai Key Laboratory of Data Science, School of Computer Science, Fudan University\n",
       "\n",
       "\n",
       "Jinliu Pan: Shanghai Key Laboratory of Data Science, School of Computer Science, Fudan University\n",
       "\n",
       "\n",
       "Yuxi Bi: College of Design and Innovation, Tongji University\n",
       "\n",
       "\n",
       "Yi Dai: Shanghai Research Institute for Intelligent Autonomous Systems, Tongji University\n",
       "\n",
       "\n",
       "Jiawei Sun: Shanghai Research Institute for Intelligent Autonomous Systems, Tongji University\n",
       "\n",
       "\n",
       "Meng Wang: College of Design and Innovation, Tongji University\n",
       "\n",
       "\n",
       "Haofen Wang: Shanghai Research Institute for Intelligent Autonomous Systems, Tongji University College of Design and Innovation, Tongji University\n",
       "\n",
       "\n",
       "\n",
       "Abstract\n",
       "\n",
       "Large Language Models (LLMs) showcase impressive capabilities but encounter challenges like hallucination, outdated knowledge, and non-transparent, untraceable reasoning processes. Retrieval-Augmented Generation (RAG) has emerged as a promising solution by incorporating knowledge from external databases. This enhances the accuracy and credibility of the generation, particularly for knowledge-intensive tasks, and allows for continuous knowledge updates and integration of domain-specific information. RAG synergistically merges LLMs’ intrinsic knowledge with the vast, dynamic repositories of external databases. This comprehensive review paper offers a detailed examination of the progression of RAG paradigms, encompassing the Naive RAG, the Advanced RAG, and the Modular RAG. It meticulously scrutinizes the tripartite foundation of RAG frameworks, which includes the retrieval, the generation and the augmentation techniques. The paper highlights the s"
      ],
      "text/plain": [
       "<IPython.core.display.Markdown object>"
      ]
     },
     "metadata": {},
     "output_type": "display_data"
    }
   ],
   "source": [
    "from cheat_code.indexer_components.loaders       import DocLoader\n",
    "from cheat_code.indexer_components.preprocessors import ArxivHtmlPaperPreprocessor\n",
    "\n",
    "rag_survey_paper_uri = \"https://arxiv.org/html/2312.10997v5\"\n",
    "rag_survey_paper_html = DocLoader.load_html(rag_survey_paper_uri)\n",
    "preprocessor = ArxivHtmlPaperPreprocessor()\n",
    "cleaned_doc_content = preprocessor.get_text(rag_survey_paper_html)\n",
    "\n",
    "display_md(cleaned_doc_content[0:2000])"
   ]
  },
  {
   "cell_type": "markdown",
   "metadata": {},
   "source": [
    "And, here is the implementation for you to complete:"
   ]
  },
  {
   "cell_type": "code",
   "execution_count": 6,
   "metadata": {},
   "outputs": [
    {
     "data": {
      "text/markdown": [
       "Retrieval-Augmented Generation for Large Language Models: A Survey\n",
       "\n",
       "Yunfan Gao: Shanghai Research Institute for Intelligent Autonomous Systems, Tongji University\n",
       "\n",
       "\n",
       "Yun Xiong: Shanghai Key Laboratory of Data Science, School of Computer Science, Fudan University\n",
       "\n",
       "\n",
       "Xinyu Gao: Shanghai Key Laboratory of Data Science, School of Computer Science, Fudan University\n",
       "\n",
       "\n",
       "Kangxiang Jia: Shanghai Key Laboratory of Data Science, School of Computer Science, Fudan University\n",
       "\n",
       "\n",
       "Jinliu Pan: Shanghai Key Laboratory of Data Science, School of Computer Science, Fudan University\n",
       "\n",
       "\n",
       "Yuxi Bi: College of Design and Innovation, Tongji University\n",
       "\n",
       "\n",
       "Yi Dai: Shanghai Research Institute for Intelligent Autonomous Systems, Tongji University\n",
       "\n",
       "\n",
       "Jiawei Sun: Shanghai Research Institute for Intelligent Autonomous Systems, Tongji University\n",
       "\n",
       "\n",
       "Meng Wang: College of Design and Innovation, Tongji University\n",
       "\n",
       "\n",
       "Haofen Wang: Shanghai Research Institute for Intelligent Autonomous Systems, Tongji University College of Design and Innovation, Tongji University\n",
       "\n",
       "\n",
       "\n",
       "Abstract\n",
       "\n",
       "Large Language Models (LLMs) showcase impressive capabilities but encounter challenges like hallucination, outdated knowledge, and non-transparent, untraceable reasoning processes. Retrieval-Augmented Generation (RAG) has emerged as a promising solution by incorporating knowledge from external databases. This enhances the accuracy and credibility of the generation, particularly for knowledge-intensive tasks, and allows for continuous knowledge updates and integration of domain-specific information. RAG synergistically merges LLMs’ intrinsic knowledge with the vast, dynamic repositories of external databases. This comprehensive review paper offers a detailed examination of the progression of RAG paradigms, encompassing the Naive RAG, the Advanced RAG, and the Modular RAG. It meticulously scrutinizes the tripartite foundation of RAG frameworks, which includes the retrieval, the generation and the augmentation techniques. The paper highlights the s"
      ],
      "text/plain": [
       "<IPython.core.display.Markdown object>"
      ]
     },
     "metadata": {},
     "output_type": "display_data"
    }
   ],
   "source": [
    "from workshop_code.indexer_components.loaders       import DocLoader\n",
    "from workshop_code.indexer_components.preprocessors import ArxivHtmlPaperPreprocessor\n",
    "\n",
    "rag_survey_paper_uri = \"https://arxiv.org/html/2312.10997v5\"\n",
    "rag_survey_paper_html = DocLoader.load_html(rag_survey_paper_uri)\n",
    "preprocessor = ArxivHtmlPaperPreprocessor()\n",
    "cleaned_doc_content = preprocessor.get_text(rag_survey_paper_html)\n",
    "\n",
    "display_md(cleaned_doc_content[0:2000])"
   ]
  },
  {
   "cell_type": "markdown",
   "metadata": {},
   "source": [
    "## Hard Task, not recommended for today: Write a Preprocessor for the PDF Version of the RAG Survey Paper\n",
    "In production applications, you're likely to need to do inference on PDFs. Today this is often a non-trivial task. The most popular open source solution is Tesseract. However, Tesseract often underperforms computer vision-based services from vendors like Google Cloud and AWS."
   ]
  },
  {
   "cell_type": "markdown",
   "metadata": {},
   "source": [
    "## text_splitters.py\n",
    "Because LLM context windows are limited, semantic indexing strategies rely on text splitting. In this tutorial, we use the most naive strategy, character text splitting. To find inspiration or source code for more strategies, I look at LlamaIndex and Langchain. However, in some production situations, it will make sense to write a text splitter specific to your needs.\n",
    "\n",
    "### Text splitting task #1: examine and copy the code for the text splitter\n",
    "Here is the working implementation:"
   ]
  },
  {
   "cell_type": "code",
   "execution_count": 7,
   "metadata": {},
   "outputs": [
    {
     "data": {
      "text/markdown": [
       "approaches in their respective contexts, and speculate on upcoming trends and innovations. Our contributions are as follows: In this survey, we present a thorough and systematic review of the state-of-the-art RAG methods, delineating its evolution through paradigms including naive RAG, advanced RAG, and modular RAG. This review contextualizes the broader scope of RAG research within the landscape of LLMs. We identify and discuss the central technologies integral to the RAG process, specifically focusing on the aspects of “Retrieval”, “Generation” and “Augmentation”, and delve into their synergies, elucidating how these components intricately collaborate to form a cohesive and effective RAG framework. We have summarized the current assessment methods of RAG, covering 26 tasks, nearly 50 datasets, outlining the evaluation objectives and metrics, as well as the current evaluation benchmarks and tools. Additionally, we anticipate future directions for RAG, emphasizing potential enhancements to tackle current challenges. The paper unfolds as follows: SectionIIintroduces the main concept and current paradigms of RAG. The following three sections explore core components—“Retrieval”, “Generation” and “Augmentation”, respectively. SectionIIIfocuses on optimization methods in retrieval,including indexing, query and embedding optimization. SectionIVconcentrates on post-retrieval process and LLM fine-tuning in generation. SectionVanalyzes the three augmentation processes. SectionVIfocuses on RAG’s downstream tasks and evaluation system. SectionVIImainly discusses the challenges that RAG currently faces and its future development directions. At last, the paper concludes in SectionVIII. IIOverview of RAG A typical application of RAG is illustrated in Figure2. Here, a user poses a question to ChatGPT about a recent, widely discussed news. Given ChatGPT’s reliance on pre-training data, it initially lacks the capacity to provide updates on recent developments. RAG bridges this information gap by sourcing and incorporating knowledge"
      ],
      "text/plain": [
       "<IPython.core.display.Markdown object>"
      ]
     },
     "metadata": {},
     "output_type": "display_data"
    }
   ],
   "source": [
    "from cheat_code.indexer_components.loaders        import DocLoader\n",
    "from cheat_code.indexer_components.preprocessors  import ArxivHtmlPaperPreprocessor\n",
    "from cheat_code.indexer_components.text_splitters import SimpleCharacterTextSplitter\n",
    "\n",
    "CHUNK_SIZE = 250\n",
    "OVERLAP_SIZE = 25\n",
    "rag_survey_paper_uri = \"https://arxiv.org/html/2312.10997v5\"\n",
    "preprocessor = ArxivHtmlPaperPreprocessor()\n",
    "text_splitter = SimpleCharacterTextSplitter(CHUNK_SIZE, OVERLAP_SIZE)\n",
    "\n",
    "rag_survey_paper_html = DocLoader.load_html(rag_survey_paper_uri)\n",
    "cleaned_doc_content = preprocessor.get_text(rag_survey_paper_html)\n",
    "text_splits = text_splitter.split_text(cleaned_doc_content)\n",
    "\n",
    "display_md(text_splits[3])"
   ]
  },
  {
   "cell_type": "markdown",
   "metadata": {},
   "source": [
    "Copy the code from `cheat_code/indexer_components/text_splitters.py` to `workshop_code/` so that the code below works: "
   ]
  },
  {
   "cell_type": "code",
   "execution_count": 9,
   "metadata": {},
   "outputs": [
    {
     "data": {
      "text/markdown": [
       "approaches in their respective contexts, and speculate on upcoming trends and innovations. Our contributions are as follows: In this survey, we present a thorough and systematic review of the state-of-the-art RAG methods, delineating its evolution through paradigms including naive RAG, advanced RAG, and modular RAG. This review contextualizes the broader scope of RAG research within the landscape of LLMs. We identify and discuss the central technologies integral to the RAG process, specifically focusing on the aspects of “Retrieval”, “Generation” and “Augmentation”, and delve into their synergies, elucidating how these components intricately collaborate to form a cohesive and effective RAG framework. We have summarized the current assessment methods of RAG, covering 26 tasks, nearly 50 datasets, outlining the evaluation objectives and metrics, as well as the current evaluation benchmarks and tools. Additionally, we anticipate future directions for RAG, emphasizing potential enhancements to tackle current challenges. The paper unfolds as follows: SectionIIintroduces the main concept and current paradigms of RAG. The following three sections explore core components—“Retrieval”, “Generation” and “Augmentation”, respectively. SectionIIIfocuses on optimization methods in retrieval,including indexing, query and embedding optimization. SectionIVconcentrates on post-retrieval process and LLM fine-tuning in generation. SectionVanalyzes the three augmentation processes. SectionVIfocuses on RAG’s downstream tasks and evaluation system. SectionVIImainly discusses the challenges that RAG currently faces and its future development directions. At last, the paper concludes in SectionVIII. IIOverview of RAG A typical application of RAG is illustrated in Figure2. Here, a user poses a question to ChatGPT about a recent, widely discussed news. Given ChatGPT’s reliance on pre-training data, it initially lacks the capacity to provide updates on recent developments. RAG bridges this information gap by sourcing and incorporating knowledge"
      ],
      "text/plain": [
       "<IPython.core.display.Markdown object>"
      ]
     },
     "metadata": {},
     "output_type": "display_data"
    }
   ],
   "source": [
    "from workshop_code.indexer_components.loaders        import DocLoader\n",
    "from workshop_code.indexer_components.preprocessors  import ArxivHtmlPaperPreprocessor\n",
    "from workshop_code.indexer_components.text_splitters import SimpleCharacterTextSplitter\n",
    "\n",
    "CHUNK_SIZE = 250\n",
    "OVERLAP_SIZE = 25\n",
    "rag_survey_paper_uri = \"https://arxiv.org/html/2312.10997v5\"\n",
    "preprocessor = ArxivHtmlPaperPreprocessor()\n",
    "text_splitter = SimpleCharacterTextSplitter(CHUNK_SIZE, OVERLAP_SIZE)\n",
    "\n",
    "rag_survey_paper_html = DocLoader.load_html(rag_survey_paper_uri)\n",
    "cleaned_doc_content = preprocessor.get_text(rag_survey_paper_html)\n",
    "text_splits = text_splitter.split_text(cleaned_doc_content)\n",
    "\n",
    "display_md(text_splits[3])"
   ]
  },
  {
   "cell_type": "markdown",
   "metadata": {},
   "source": [
    "### Text Splitting Task #2: look at alternative text splitters\n",
    "Make a mental note of the other text splitters available here:\n",
    "- [Langchain: Text Splitters](https://python.langchain.com/v0.2/docs/how_to/#text-splitters)\n",
    "- [LlamaIndex: Text Splitters](https://medium.com/@bavalpreetsinghh/llamaindex-chunking-strategies-for-large-language-models-part-1-ded1218cfd30)"
   ]
  },
  {
   "cell_type": "markdown",
   "metadata": {},
   "source": [
    "## Embeddings: vectorizers.py\n",
    "Embeddings of text is currently the most common method of preparing human-readable text so that they can be compared to each other for relatedness. Currently, OpenAI's embedding models rank amongst the highest performing, so we use theirs.  \n",
    "\n",
    "OpenAI's text embedding models take up to 8191 tokens as input and convert them to a vector of dimension 1536 for `text-embedding-3-small` or 3072 for `text-embedding-3-large`.\n",
    "\n",
    "### Embeddings Task #1: Use OpenAI's Embeddings API\n",
    "The embeddings code for your naive RAG pipeline should behave like this:"
   ]
  },
  {
   "cell_type": "code",
   "execution_count": 10,
   "metadata": {},
   "outputs": [
    {
     "name": "stdout",
     "output_type": "stream",
     "text": [
      "Dimensions: 2x1536\n",
      "[[0.022448478, 0.019124273, -0.022542687, 0.045542955, -0.04053646, -0.011594343, 0.023027187, 0.017886108, -0.00396684, -0.025342017, 0.03854463, 0.0032350437, 0.032461468, 0.056578778, 0.008478742, 0.0056222132, 0.03375347, -0.015746236, -0.011910614, 0.039217547, 0.048826788, 0.024023103, 0.048772953, -0.014265819, 0.016769066, -0.018074524, 0.0050771516, -0.044439375, 0.017913025, 0.00752993, 0.039755877, -0.027360765, 0.04807312, -0.009252596, -0.0047406936, 0.04597362, 0.037387215, 0.017078608, -0.0015872407, 0.010558052, -0.0126171755, 0.016136527, 0.043066625, -0.0072876806, 0.0068233684, -0.0034066373, -0.03773713, 0.03676813, 0.05927044, 0.036068298, -0.009124741, 0.010080282, -0.0023451124, 0.025490059, -0.0065575666, -0.049822703, -0.020174023, 0.0028750338, 0.033295885, -0.019164648, -0.025382392, -0.007354972, 0.022731103, -0.032515302, -0.0074559096, -0.027549181, 0.025220893, 0.04077871, -0.03523388, -0.0068469206, 0.054048616, 0.03275755, -0.009037262, 0.034910884, 0.01586736, 0.0179534, 0.0072473055, -0.03886763, -0.02147948, 0.028504724, 0.050899368, -0.007832742, -0.027360765, -0.006143723, 0.039702047, -0.030388888, 0.031680886, 0.033591967, -0.014575361, 0.013983195, 0.00091264234, 0.018922398, 0.019218482, 0.009817845, -0.011076198, 0.011130031, -0.017886108, -0.039163712, -0.01410432, 0.067183934, 0.032515302, -0.0071463683, -0.026351392, 0.009353532, -0.011291531, -0.0055885674, 0.015813526, -0.037575632, 0.02322906, 0.032246135, -0.049472786, -0.0748821, 0.0002981859, -0.00035916892, 0.018478274, 0.012206697, 0.0344533, -0.018262941, 0.01097526, -0.02764339, -0.025193976, 0.004727235, -0.008445096, -0.05071095, -0.016015401, 0.039136797, -0.032999802, 0.029446805, -0.04368571, 0.04352421, 0.03044272, -0.016149985, 0.020254772, -0.038975295, 0.007651055, 0.015975026, -0.0010733011, -0.03991738, 0.0051242555, -2.1291484e-05, 0.04231296, -0.045731373, 0.049553536, 0.019326149, 0.0044849855, -0.0069512227, -0.0006043627, 0.0524067, 0.02107573, -0.011567427, -0.0052218284, 0.022017812, -0.0014661158, -0.009407366, -0.0021768834, -0.049472786, -0.017966857, 0.004952662, 0.0011035823, -0.029554471, 0.00054043566, -0.014723402, -0.0014812564, -0.042286042, -0.01955494, -0.005706328, -0.03830238, 0.03830238, -0.07041393, -0.040617213, -0.027777974, -0.04446629, 0.004437881, 0.016123068, -0.04958045, -0.0068637435, -0.021694813, -0.03100797, -0.05025337, -0.0091987625, 0.0047642454, 0.068045266, 0.03157322, -0.021089189, -0.034049552, -0.014575361, 0.03582605, -0.0013870482, 0.03789863, 0.0063355044, 0.020981522, -0.04430479, 0.05970111, 0.008848846, 0.0171459, 0.009353532, 0.01819565, -0.018168733, -0.022623437, 0.03044272, 0.020120189, 0.010558052, 0.055825114, -0.047750123, 0.0094746575, -0.029204555, 0.0024662372, -0.021990895, 0.013054571, -0.025988016, 0.061423775, -0.0008478742, -0.032165386, -0.018814731, 0.01097526, -0.0047507873, 0.05065712, 0.011789489, 0.02308102, 0.001879118, -0.05674028, 0.038167797, 0.07676626, 0.056847945, -0.029581388, -0.013350653, 0.0035328092, -0.012078843, -0.034049552, -0.000597213, 0.024696019, 0.024224976, -0.0015165845, -0.016257651, -0.026230266, 0.0261226, 0.004471527, 0.0122807175, 0.026889725, 0.0038726318, -0.034480218, 0.015530902, -0.006786358, 0.0107868435, -0.020685438, 0.01065899, -0.011527051, -0.051733784, -0.002969242, 0.04766937, 0.012004822, -0.03431872, -0.013996653, 0.015921192, 0.0173074, 0.038436964, -0.016298026, 0.04037496, 0.051141616, -0.032003887, -0.01578661, 0.033672716, -0.05824761, -0.038167797, -0.013599633, -0.011897155, 0.0055414634, 0.020873856, 0.015167527, 0.02476331, 0.0109079685, -0.028800806, 0.050307203, 0.045785207, -0.033538133, 0.0013290092, 0.0015838761, 0.012314363, -0.035610717, 0.03927138, 0.009609241, -0.0019009878, 0.008956512, -0.015275193, -0.007058889, 0.012933446, 0.02075273, 0.0105715105, 0.025584267, 0.02804714, -0.058301445, -0.012812321, 0.020214397, -0.003694309, -0.025759226, 0.0037279548, 0.007879847, 0.012065385, -0.020295147, 0.0344533, 0.0684221, 0.06788377, 0.038410045, 0.0036236527, 0.0027454973, 0.06040094, 0.062715776, -0.046188954, 0.010719553, 0.029527554, 0.021963978, 0.0163384, -0.057440113, 0.0522452, 0.025247809, -0.03676813, -0.03910988, 0.0014131237, -0.01505986, -0.042420626, -0.018074524, -0.004343673, -0.0035731841, -0.05359103, -0.024669101, 0.010012991, -0.012765217, 0.03765638, 0.02123723, -0.02740114, 0.026230266, 0.009393908, 0.0031105543, -0.005672682, 0.006234567, -0.0530527, 0.023942351, 0.033672716, -0.010833948, -0.008041346, 0.029796721, -0.08995541, -0.015113694, 0.025907267, 0.003677486, -0.026176434, -0.00031038251, -0.022340812, 0.0139293615, 0.034426384, -0.012771946, -0.02460181, 0.0349378, 0.013007467, 0.020631606, -0.009730366, 0.0073751598, -0.029392973, 0.010012991, 0.07547426, -0.0003703141, 0.03318822, 0.037548713, 0.005554922, -0.008855575, 0.027912557, -0.030281221, 0.024669101, -0.019178107, 0.028154807, -0.017738067, 0.05948578, 5.4358996e-05, 0.013276633, -0.06427694, 0.052971948, 0.018034149, -0.024642184, -0.03875996, 0.007597222, -0.009043992, -0.010221594, -0.020725813, 0.008128826, -0.0264456, 0.003293924, -0.010060094, -0.016742151, -0.013640008, 0.015975026, 0.028423972, -0.0052386513, -0.037710212, 0.004236006, -0.081342086, 0.021506395, 0.0010219913, 0.07342859, 0.02861239, 0.01787265, 0.00016391814, -0.06659177, -0.03886763, -0.02243502, -0.0077721803, 0.006096619, -0.0047877976, -0.009353532, -0.019931773, 0.019770272, -0.055017613, 0.0014358346, 0.025624642, 0.0131353205, 0.028343223, -0.0061571817, 0.014911819, 0.0037885173, -0.021021897, -0.014979111, -0.025193976, -0.0072674933, 0.004794527, -0.05528678, 0.0030415803, -0.032649886, -0.008714262, -0.031088721, 0.008795013, -0.043739542, -0.038517714, 0.024884434, -0.03211155, -0.0022172583, 0.048315372, 0.0036606633, -0.08080376, 0.02917764, -0.020214397, -0.04575829, 0.009710178, -0.022125479, 0.0490152, -0.005144443, -0.06120844, -0.036095217, -0.006234567, -0.018370608, -0.030658053, 0.00081044325, -0.016069235, -0.06034711, -0.030173555, -0.0179534, 0.048665285, 0.051653035, -0.019460732, 0.017401608, 0.006698879, -0.04236679, 0.00504687, 0.0171459, 0.020806564, 0.009360262, 0.008586409, -0.020106731, 0.06298494, -0.055825114, -0.06136994, 0.0007667037, -0.023350187, 0.025570808, 0.026418682, 0.020631606, -0.048046205, 0.017267026, -0.018370608, -0.004831537, 0.03133097, -0.012724842, 0.006211015, 0.013767862, 0.018814731, 0.034184135, -0.025274726, 0.042662878, -0.011318447, 0.062069774, 0.030012054, -0.04134396, -0.015409777, 0.0044479747, 0.0044277874, -0.013417945, -0.0026529715, -0.0038120693, 0.050522536, -0.012751759, 0.00945447, -0.035072383, 0.025368934, -0.017509274, 0.02917764, 0.028477807, 0.01810144, -0.011163677, -0.024574893, -0.004673402, 0.016513359, 0.02259652, -0.029527554, 0.009091095, 0.019985605, -0.003416731, -0.005312672, -0.0031694344, 0.021627521, -0.019662606, 0.00019672279, 0.04182846, -0.02861239, 0.008916138, 0.018357148, 0.026660932, 0.04823462, -0.041236293, 0.014521528, -0.023404019, 0.0067829937, 0.021304522, 0.013572716, -0.015329027, 0.015180985, 0.021735188, 0.014669569, 0.013128592, -0.033134386, 0.025207434, -0.012529696, 0.04600054, 0.01923194, 0.015329027, -0.0068805665, 0.00905072, 0.0036842152, 0.05722478, -0.0039870273, 0.0057668905, 0.0028800806, 0.031788554, 0.020497022, 0.05017262, 0.023700103, -0.02717235, 0.015934652, -0.021183396, 0.021977438, -0.016082693, -0.04761554, 0.0032838301, -0.021614064, 0.008761367, 0.016836358, -0.0051545366, -0.009528491, 0.00294569, 0.022260062, 0.017670775, -0.03391497, -0.018020691, -0.005753432, 0.040267296, 0.03165397, -0.03647205, -0.028074056, -0.04487004, -0.008323971, -0.01522136, 0.025032476, -0.053348783, 0.0043302146, -0.007819284, 0.018774357, 0.015813526, -0.027939474, 0.03789863, 0.0651921, -0.006500369, -0.026472516, -0.00023068402, 0.024561435, 0.020174023, -0.016136527, 0.062069774, 0.017495817, 0.037225716, -0.027481891, -0.017253567, 0.011103114, -0.01001972, 0.020214397, -0.013216071, -0.006722431, 0.012893071, -0.02419806, -0.032838304, 0.016526818, -0.00071833783, -0.023161769, 0.03173472, 0.003021393, 0.008620054, 0.049957287, 0.008108638, -0.03846388, 0.02540931, -0.014763777, -0.028908473, -0.012327822, -0.011735655, -0.0032787833, 0.0046666726, 0.0018320138, 0.020416273, 0.0039062775, 0.028558556, -0.011802947, -0.006459994, 0.015611651, -0.010847406, 0.003630382, -0.007523201, 0.02275802, 0.02259652, -0.018168733, 0.015813526, -0.041963045, -0.019056981, -0.0005829135, 0.015288652, -0.010369636, 0.02003944, -0.0174689, -0.0064768167, 0.004757516, -0.011345364, 0.011964447, 0.009952428, -0.026916642, -0.016607568, 0.013646737, 0.004757516, 0.026485974, -0.018935857, 0.006618129, -0.049095955, 0.0007360019, 0.004101423, 0.018787816, 0.016688317, 0.01658065, 0.014010112, 0.0012861107, -0.04056338, 0.0134717785, -0.003637111, -0.041774627, -0.026162975, -0.00428984, -0.014037028, 0.042097628, 0.0038827255, 0.05310653, -0.03980971, 0.028531639, 0.025382392, -0.011345364, 0.027374225, 0.026485974, -1.8137189e-05, -0.008821929, 0.007523201, -0.018895483, 0.030308139, 0.019326149, 0.004232642, -0.014736861, 0.00025465665, -0.059431944, 0.016863275, -0.020712355, -0.0015460246, 0.06088544, -0.009656345, 0.0054539843, -0.0027471797, 0.012509509, 0.0012482592, 0.03343047, -0.056524947, 0.0075770346, -0.003028122, 0.023727018, 0.0054371613, 0.013518883, -0.03902913, -0.017603483, 0.005803901, 0.013424675, 0.00019251707, -0.024480686, 0.010181219, 0.047400206, 0.02732039, -0.02652635, -0.025045935, -0.0114866765, -0.03391497, -0.012273989, 0.050522536, 0.024480686, -0.018384065, -0.009225679, 0.023646269, -0.0010354496, -0.030496554, 0.015503985, 0.018020691, -0.0245076, 0.022636894, 0.023282895, 0.012771946, -0.00043949828, -0.011769301, 0.014777236, 0.0009412413, -0.049903452, 0.019783732, -0.019662606, -0.008357617, 0.04645812, 0.011116573, -0.022125479, 0.0047003184, -0.006025963, -0.01810144, 0.00396684, 0.029366056, -0.02732039, 0.0041619856, -0.027616473, 0.010558052, 0.023390561, -0.0018471545, -0.035933714, -0.03927138, -0.052218284, 0.0012045196, 0.027387682, -0.024009643, 0.003980298, 0.045839038, 0.010941614, -0.005033412, -0.034749385, -0.019420356, 0.03383422, -0.0181149, 0.030550387, 0.022300437, 0.010167761, 0.014831069, 0.0086806165, -0.013902445, 0.020470105, 0.014494611, 0.012146134, -0.039782796, 0.0538602, 0.01915119, -0.0256381, 0.0026075495, -0.0344533, 0.018357148, 0.0004996401, 0.011567427, -0.00969672, -0.016876735, -0.03205772, -0.032084636, 0.0047810683, 0.022879144, 0.0106320735, 0.004064413, -0.00028241443, -0.022946436, -0.0023097843, -0.03157322, 0.012650821, 0.029850556, -0.0245076, 0.034910884, 0.015019486, 0.012845967, -0.005551557, 0.032165386, 0.001444246, -0.022165854, 0.035556883, -0.017590025, -0.0014543397, 0.011493405, 0.033861134, 0.004676766, -0.0057837134, -0.03894838, -0.0065239207, 0.032326885, 0.009447741, 0.0005602026, 0.01913773, -0.043874126, 0.005807265, -0.012570071, 0.0134717785, 0.0099928025, -0.020497022, 0.031357888, 0.011883697, 0.019164648, 0.028962305, -0.015988484, -0.021614064, -0.035476133, 0.01947419, 0.02028169, 0.0010825536, -0.032542218, -0.019339606, 0.008720992, 0.03141172, -0.029796721, -0.0018320138, 0.011096385, -0.008539304, -0.00873445, -0.032488387, -0.029850556, -0.030658053, 0.02772414, -0.02156023, -0.023578977, 0.01201828, -0.03878688, 0.04085946, 0.002388852, -0.019205023, -0.035395384, 0.00063422334, 0.012395113, -0.022138936, -0.010840677, -0.03270372, 0.0013870482, -0.017078608, -0.022690728, 0.0028111066, 0.01282578, 0.043470375, 0.041478544, 0.00035307062, -0.005585203, -0.02540931, -0.03631055, 0.008640242, 0.0022340813, -0.0047810683, -0.012751759, -0.01868015, 0.060185608, 0.0109079685, -0.017536191, 0.015113694, 0.013821695, -0.012576801, 0.04535454, -0.002997841, -0.038598463, -0.031357888, 0.016230734, 0.016755609, -0.053564116, -0.018357148, -0.044358626, -0.0041720793, -0.025866892, -0.0014534986, -0.01900315, 0.037279546, -0.030873388, -0.02917764, -0.0048920996, -0.01073301, 0.002801013, -0.008391263, 0.026889725, 0.016176902, -0.007462639, -0.001688178, -0.008458555, 0.0033612156, 0.02083348, 0.02468256, -0.03676813, 0.025691934, 0.0019413627, -0.0056154844, -0.010396552, -0.015665485, 0.027670307, 0.0014863033, -0.004979579, 0.010309073, 0.006241296, 0.026903182, -0.0072809514, -0.022125479, 0.029931305, 0.072136596, -0.018370608, 0.007516472, -0.023982728, 0.012866154, 0.013074758, 0.0026361486, -0.04438554, -0.005299214, -0.020712355, 0.014979111, 0.019205023, 0.004262923, -0.039082963, 0.006264848, -0.015234819, 0.014211986, 0.016553733, -0.010955073, 0.04702337, 0.02298681, 0.05025337, 0.011735655, -0.017590025, 0.010544594, 0.0020052898, -0.01386207, -0.004424423, 0.014010112, -0.015759693, 0.03068497, 0.05614811, -0.02275802, 0.012428759, 0.011829863, -0.005474172, -0.015032944, -0.016890192, 0.010362906, -0.017966857, 0.007644326, 0.0655151, -0.026297558, -0.0072338474, 0.054990698, 0.020820022, -0.016069235, -0.0025621278, 0.018370608, 0.023013728, -0.0002493995, -0.031277135, -0.011392469, 0.06282344, -0.0037414131, -0.009589054, -0.014144694, -0.008902679, 0.0005459031, 0.016513359, 0.023767393, -0.0262841, 0.03294597, 0.04976887, -0.0076039513, 0.022542687, -0.018855106, 0.0034655174, -0.0176304, -0.0129805505, -0.010396552, 0.021331439, -0.03485705, -0.028397055, -0.0067291604, 0.042582124, -0.012489322, -0.0007561894, 0.016553733, -0.033591967, 0.0055448283, 0.01971644, -0.01913773, 0.009797657, -0.002388852, -0.053429533, -0.039567463, -0.011405926, -0.0042831106, 0.004528725, 0.025180517, -0.0040745065, 0.018249482, -0.007644326, -0.0041115168, -0.03523388, -0.031950053, -0.009515032, -0.021667896, 0.03294597, -0.0070858058, 0.012085572, -0.0025553985, -0.0062042857, 0.015248277, 0.009326616, -0.010773386, -0.016392235, -0.045219958, -0.040671043, -0.038813796, 0.0333228, -0.04863837, -0.00085165934, -0.011291531, 0.025368934, 0.006274942, 0.0137073, 0.004373954, 0.0053967866, 0.003990392, -0.006873837, 0.018451357, -0.03221922, -0.041720793, -0.009393908, -0.029796721, 0.005719786, 0.045892872, 0.004552277, -0.013747674, 0.048665285, 0.011271344, 0.009770741, -0.0070656184, -0.0025419402, 0.00873445, -0.019662606, 0.05641728, -0.02659364, -0.0036404757, 0.04406254, 0.007913493, 0.045569874, -0.01900315, 0.041774627, 0.0017579931, 0.008377804, 0.020698898, -0.034184135, 0.0056154844, 0.029689055, 0.020389356, 0.02371356, 0.015665485, 0.011257885, -0.016271109, 0.00801443, 0.037629463, -0.0029995232, 0.018653233, 0.011520322, 0.0112444265, -0.0033292521, -0.021573687, 0.0018488368, 0.031088721, -0.0010909651, -0.014521528, -0.020860396, 0.012381655, -0.006217744, 0.0056861406, 0.010867594, 0.0006960475, -0.04656579, -0.045381457, -0.0046532145, -0.009104554, 0.0044681625, 0.0036808506, 0.03932521, -0.02356552, 0.013364112, -0.0029137265, -0.038894545, 0.03326897, 0.0079471385, -0.039567463, -0.04215146, 0.0025705392, 0.022004355, -0.01979719, -0.0077856383, -0.0014425637, 0.022784937, -0.015773151, 0.0024746486, -0.009824574, -0.009838033, 0.0025082945, 0.008270138, 0.022690728, 0.0053732344, 0.06357711, 0.028558556, -0.0025150236, 0.022017812, -0.0030012054, 0.012146134, 0.0148445275, 0.0035529966, 0.044735458, -0.008889221, 0.031034887, 0.024790226, 0.014211986, -0.022542687, 0.02332327, 0.12381655, 0.005585203, -0.01834369, -0.0021735188, -0.012119218, -0.0033965437, 0.03733338, 0.038194712, 0.04301279, 0.009521762, -0.008303784, -0.017347775, -0.0118231345, -0.006264848, 0.037037298, 0.013969737, -0.008532575, 0.015342485, 0.008229763, -0.006217744, -0.00880847, -0.024238436, -0.020241315, 0.0019211753, -0.026324475, -0.028827723, -0.011735655, -0.04487004, -0.012273989, 0.012475863, 0.03999813, 0.009743824, 0.01265755, -0.024561435, 0.011950988, 0.006497004, 0.0040980587, -0.011405926, -0.015598194, 1.0770599e-05, 0.013047841, -0.028881555, 0.00072590815, 0.030981055, 0.02298681, -0.0016612614, -0.0342918, -0.008236492, 0.035368465, 0.013720757, -0.00841145, -0.0052285576, -0.036122132, 0.015409777, -0.015113694, 0.020402813, -0.011372281, -0.02683589, -0.00055515574, 0.018034149, -0.0084047215, -0.012247072, -0.023040645, -0.018572481, 0.026512891, 0.015396318, -0.04182846, 0.0029860649, 0.02067198, 0.002175201, 0.016634485, 0.0026109142, 0.060670108, -0.009353532, -0.021977438, 0.020685438, -0.004471527, -0.015611651, -0.017818816, -0.046700373, -0.029662138, 0.0017933212, -0.011513594, -0.02228698, 0.0012785405, -0.00029292874, -0.0071463683, 0.030038971, 0.0041720793, -0.030415805, 2.7389786e-05, 0.00581063, -0.017401608, 0.015759693, 0.021667896, 0.018316774, 0.03205772, -0.0034083195, 0.0011725562, -0.011843322, -0.016123068, -0.032407634, -0.015880818, 0.008451825, -0.0028397057, 0.004912287, -0.035583798, 0.020725813, -0.0152079025, -0.016863275, -0.043281958, 0.021008437, 0.021371813, 0.0011187228, 0.0026226903, 0.010087011, -0.020820022, 0.008034618, -0.018357148, -0.04045571, -0.027024308, -0.00040816562, 0.0045657353, 0.011917342, -0.021990895, 0.014656111, -0.0025469873, 0.044520125, 0.051437702, -0.013182425, -0.03765638, 0.027387682, 0.00921222, -0.029204555, -0.0045859227, 0.03676813, 0.006281671, -0.020618146, 0.021600604, -0.010564782, -0.00037767412, 0.044896957, 0.030281221, -0.0034234603, -0.015921192, -0.0025890444, 0.0005845958, 0.02076619, -0.027468432, 0.0066383164, -0.0042831106, -0.004215819, -0.005198276, -0.019030064, 0.035879884, -0.0028750338, -0.014265819, -0.011257885, 0.027481891, -0.018397525, -0.014494611, -0.008155743, 0.013794779, -0.0021398729, -0.012112488, -0.029339138, -2.0700054e-05, -0.0014358346, -0.008108638, -0.028908473, -0.015450152, -0.003781788, -0.018639773, -0.02861239, -0.036902715, 0.0074357223, -0.0024611903, 0.011950988, 0.034426384, -0.013747674, -0.014602277, -0.02707814, -0.015678944, -0.0015611652, -0.0021987532, 0.011500135, -0.006564296, -0.014198528, -0.030415805, -0.03149247, 0.013532341, 0.04408946, 3.7614955e-05, -0.026539808, -0.0249921, 0.009306429, 0.011977905, -0.008586409, -0.018962774, -0.010537865, -0.051572286, -0.031950053, 0.004030767, 0.05367178, 0.032542218, 0.00082894845, 0.038921464, 0.04190921, -0.021533312, 0.019864481, 0.008202846, -0.01659411, 0.026485974, -0.013155508, 0.008424909, -0.011459759, -0.034022633, -0.01458882, -0.01939344, -0.001456022, -0.01481761, -0.072190434, -0.011257885, -0.0073818886, -0.05840911, 0.018047608, -0.03765638, -0.03324205, -0.009790928, 0.034910884, -0.0064398064, 0.013384299, -0.003980298, -0.01065899, 0.0023467946, -0.01026197, -0.018209107, -0.046296623, -0.012388384, 0.021062272, 0.019851023, -0.02026823, 0.023390561, 0.042824376, -0.0026176434, 0.022932978, 0.00025907267, 0.010436928, 0.0054102447, 0.0019867846, -0.02371356, -0.009192033, -0.013229529, -0.008916138, -0.013983195, 0.009407366, -0.012913259, -0.028262474, 0.03162705, 0.005760161, -0.04295896, -0.00024834808, 0.007139639, 0.00078268547, 0.02974289, 0.00785293, 0.007974055, -0.0269301, 0.0326768, 0.014884902, 0.0068065454, 0.0331613, -0.01217978, -0.029150723, 0.0041417982, -0.0063254107, -0.0063725146, -0.012294176, -0.0028262474, -0.009589054, 0.0088152, 0.020739272, -0.0033292521, -0.00929297, 0.024157686, -0.03238072, -0.0074895555, -0.013047841, -0.008922867, 0.0029339138, 0.0107868435, -8.616479e-05, -0.016647942, -0.013269904, 0.05927044, 0.019918315, 0.0025032477, -0.014454236, -0.016890192, -0.002499883, -0.012839238, -0.0056592235, -0.0069848686, 0.0174689, 0.029904388, 0.033861134, 0.037629463, 0.034534052, 0.012570071, -0.016149985, 0.030065889, 0.007940409, 0.0042494647, -0.038087048, -0.022179313, -0.027831806, 0.019501107, 0.021385271, 0.045058455, 0.009366991, -0.019366523, 0.0052622035, 0.006634952, 0.030738804, -0.045327622, 0.032273054, -0.029446805, 0.029419888, 0.025745766, 0.007307868, -0.008633513, 0.029850556, -0.0126777375, -0.008586409, -0.018572481, -0.01009374, -0.02437302, 0.024911352, 0.022313895, -0.003862538, 0.024897892, 0.009131471, -0.019985605, 0.012765217, 0.0026866172, 0.008895949, -0.006931035, -0.005231922, 0.004236006, 0.005248745, -0.0047474224, -0.018410983, -0.014723402, -0.011345364, -0.026647475, -0.0030012054, 0.0043806834, -0.05025337, -0.008882492, 0.0075433888, 0.0064061605, -0.0032148564, 0.001734441, -0.0034066373, -0.012321092, 0.036418214, -0.00042646052, 0.00021554342, 0.00500986, 0.026660932, -0.018733982, -0.019501107, -0.015490527, -0.016526818, -0.002052394, -0.0076375967, -0.00024267034, 0.010275427, -0.0044647977, 0.016082693, -0.013249717, -0.033457384, -0.008949783, 0.021102646, 0.0245076, 0.0015586418, -0.037952464, 0.0009378767, 0.028585473], [0.022146504, -0.04180241, -0.020773845, -0.038547654, -0.01445537, -0.021990841, -0.03345325, 0.070132956, -0.005200537, -0.006544893, -0.021354042, -0.0036792913, -0.041377876, -0.004485905, 0.006951738, 0.042736385, 0.007790192, -0.026547503, -0.014547352, 0.041717503, 0.0018042679, -0.027325815, -0.01445537, -0.0013381654, 0.0076699075, -0.020363463, 0.020547427, -0.040217485, 0.034358922, -0.049472317, 0.012778462, -0.029604144, 0.014108667, -0.05357614, -0.00022995571, -0.012361004, 0.018226644, -0.020151196, -0.018325701, -0.024184266, -0.045849632, -0.022217259, 0.025188996, -0.041264668, 0.048962876, 0.04177411, -0.0073798094, -0.007967081, 0.0066262623, 0.038462747, 0.028882436, 0.00041060362, 0.012304399, 0.09051057, -0.040953342, -0.016769078, 0.008455294, 0.02827394, 0.008872753, -0.04267978, -0.017603993, -0.02374558, 0.024339927, 0.005695826, -0.011971848, 0.02803337, -0.05858564, 0.016740777, -0.005628608, -0.008589731, 0.041009948, -0.0057807327, -0.044745844, 0.009820878, 0.008023686, 0.011802034, -0.028755078, 0.006322013, 0.0328306, 0.030849444, -0.007323205, 0.014957734, -0.020264406, -0.06390646, -0.0017052101, -0.04658549, -0.011993075, 0.027736196, 0.042113736, -0.0061062085, 0.031840023, 0.003668678, -0.03902879, 0.005985924, 0.026844677, 0.024863519, -0.0018431834, 0.0136982845, 0.02537296, 0.049444016, 0.020943658, -0.036538195, 0.0050024213, -0.033170227, -0.055274278, 0.0039517004, 0.02917961, -0.030141886, -0.0303117, 0.034358922, -0.037075937, -0.022344619, -0.017462483, 0.056519575, 0.022528585, -0.002235877, 0.044179797, 0.0057488927, -0.017349275, -0.058472432, -0.0033290512, 0.028967343, 0.00704372, -0.07681228, -0.035547614, -0.01035862, 0.02449559, 0.01791532, -0.024283323, -0.017646447, 0.025868248, -0.022387072, 0.03557592, 0.014618108, 0.0694537, -0.0034670245, 0.011766657, 0.0004926359, -0.03625517, -0.00505195, 0.045821328, -0.011950621, -0.0054800217, 0.015523779, 0.012028453, 0.023250291, 0.010924665, 0.022910664, -0.0277928, -0.008278405, -0.015396419, -0.012665253, -0.0135780005, -0.019174768, -0.06073661, -0.0026197261, -0.030623024, -0.052245937, -0.021297436, 0.03979295, -0.03130228, -0.0017255523, -0.0002651124, 0.019415338, 0.0038774072, 0.0018820991, -0.051821403, 0.03424571, -0.082019895, -0.016726624, 0.023462558, -0.0035041713, 0.0505195, -0.03424571, -0.028868286, -0.026816374, 0.0022960193, -0.031896625, -0.030198492, 0.014144045, 0.014703015, 0.03311362, 0.029972075, -0.023476709, 0.02562768, -0.034274016, 0.0059116306, 0.024085207, -0.012368079, -0.003619149, -0.010832683, 0.0038880205, 0.056745995, -0.020391764, 0.07477452, 0.0066722534, 0.016839834, 0.018495515, -0.002414535, 0.0031822333, 0.012424684, 0.035264593, 0.040953342, -0.049783643, 0.006035453, 0.0107194735, -0.051679894, 0.0011276674, -0.037528772, -0.0504912, 0.065944225, 0.010677021, 0.017052101, -0.0265192, -0.038292933, 0.0252456, 0.03067963, 0.05671769, -0.0014637565, 0.0353495, 0.014257254, 0.0013248987, 0.042000525, 0.0041321274, -0.004921052, -0.015877558, 0.011809111, -0.0807746, -0.038717467, -0.001224072, 0.043981683, 0.0070295692, -0.016896438, 0.041717503, -0.012948276, 0.031556997, -0.0068951338, -0.014066214, 0.00015787344, -0.050349686, -0.025401263, -0.04599114, -0.010125127, 0.0016822144, -0.011724204, 0.006421071, 0.0021456636, -0.019839872, -0.0429345, 0.044660937, 0.01490113, -0.0030000375, 0.055387486, -0.02197669, -0.0126228, 0.03950993, 0.015835105, 0.016217185, -0.0041392026, 0.0045495853, -0.013125164, -0.0022217259, -0.016316243, -0.02409936, -0.0050094966, -0.015806802, -0.017278519, 0.039085396, 0.04635907, 0.051170453, -0.045311887, -0.034160804, 0.035689127, 0.011667599, -0.0016211878, 0.029858865, -0.010903439, 0.008667561, 0.0024410684, 0.029632447, -0.021424796, 0.0031733888, -0.008172272, -0.024651252, -0.035434406, 0.0059894617, 0.02283991, -0.034358922, 0.007910476, -0.0023844638, -0.017533239, -0.03053812, 0.019698361, -0.025401263, -0.02639184, 0.043840174, -0.012247795, 0.0059116306, -0.030792838, 0.0044434518, 0.077831164, 0.019655908, -0.018113434, -0.047915693, -0.00037190915, 0.059830938, 0.0077689653, -0.04341564, 0.018467212, -0.000110610905, -0.018835142, 0.042113736, -0.013287902, 0.001230263, -0.005582617, -0.030113585, -0.008639259, 0.033821177, 0.007178156, -0.028641868, 0.024481438, -0.04321752, -0.025486168, 0.026052212, -0.017080402, 0.007227685, 0.0036403758, -0.048368532, 0.0035307046, -0.00092778285, -0.05252896, -0.027750347, 0.03928351, 0.039170302, -0.014320934, -0.059378102, -0.01754739, -0.012594498, -0.00482907, 0.023830486, -0.007974156, -0.044745844, -0.024438985, 0.04001937, -0.013118089, 0.03523629, 0.04429301, -0.0010109207, 0.047830787, 0.049528923, 0.0044434518, 0.010846834, 0.0043196296, 0.002430455, 0.015085095, -0.039170302, 0.027665442, -0.018764386, 0.04599114, 0.08411426, -0.021566307, -0.040613715, 0.012177039, 0.00486091, -0.02792016, -0.015141699, 0.02552862, -0.0062618707, 0.020731391, 0.023321047, 0.003955238, 0.016103975, -0.012276097, -0.023971999, -0.045906235, 0.023717279, 0.026222026, -4.8174617e-05, -0.04480245, -0.012898747, 0.006987116, -0.0077477386, 0.01515585, 0.0429345, 0.008469446, 0.030481514, -0.016146429, 0.001584041, 0.021778574, 0.020887055, 0.0076203784, -0.04913269, 0.025953155, 0.0024163038, 0.030594723, -0.003735896, -0.025273902, 0.057255436, -0.010302016, 0.013974232, 0.015509629, -0.041009948, -0.039113697, -0.005564928, -0.037104238, 0.022797456, -0.0013302054, 0.019571, 0.004245336, 0.019415338, 0.024990879, -0.01035862, 0.01982572, 0.005377426, 0.024806915, -0.009000112, -0.004245336, -0.025075786, -0.036311775, -0.009651064, -0.01655681, -0.021127623, -0.03444383, -0.012134586, 0.048651554, 0.028330544, 0.025712587, -0.007082636, 0.028514508, -0.03650989, 0.032632485, -0.0022907127, -0.046132654, 0.04483075, -0.020660637, -0.0732462, -0.07630284, 0.024354078, -0.018453062, -0.024707858, 0.039311815, -0.0052182255, 9.806285e-05, 0.0009905784, -0.024538044, 0.003958776, -0.032406066, 0.004521283, -0.03611366, -0.027622988, -0.013669983, -0.045311887, 0.055359185, -0.0102100335, 0.07245374, -0.03017019, 0.0031893088, -0.01630209, 0.063113995, -0.03902879, -0.0044328384, -0.014688863, -0.00057798484, 0.014115743, 0.01168175, -0.030113585, 0.027467325, -0.02513239, -0.011009572, -0.0053526615, -0.022075748, -0.037330657, -0.07437829, -0.030792838, -0.027495628, 0.04961383, -0.015424722, -0.012757235, 0.039821252, -0.053095005, 0.018622875, 0.017207762, 0.020773845, -0.0517648, -0.043528847, -0.0026674862, 0.01023126, 0.035774034, 0.023179535, 0.019712511, -0.02409936, -0.018396458, 0.061019633, -0.017023798, 0.010379847, -0.008618033, -0.032689087, -0.024325777, -0.01400961, -0.03498157, -0.008547277, 0.035689127, -0.05162329, 0.07500094, 0.016712474, -0.048057206, 0.0010277252, -0.010563811, -0.023165384, -0.008688788, -0.045142073, 0.010599189, -0.01667002, -0.009771349, 0.03557592, -0.0040684473, -0.007613303, 0.018736083, -0.0048538344, 0.0055401637, 0.045623213, 0.02197669, 0.004330243, -0.03625517, 0.034613643, 0.0047229365, -0.007273676, -0.01742003, -0.027594686, 0.03093435, 0.033538155, -0.013394035, -0.008547277, -0.005925782, -0.0328589, 0.06752915, 0.020278556, -0.00168929, -0.013570924, -0.012636951, 0.0032777532, -0.0073939604, -0.001239992, -0.0013779653, -0.02274085, 0.028061673, -0.029236216, -0.03305702, 0.018849293, 0.034783456, 0.04117976, 0.010613341, 0.024863519, 0.018297398, -0.0009189384, -0.037726887, -0.009311438, -0.007853872, -0.0062477197, 0.042991105, -0.022500282, 0.022118201, 0.030113585, -0.01906156, -0.04454773, -0.008037836, 0.00933974, 0.04406659, 0.011971848, -0.03447213, -0.006467062, 0.020094592, -0.004712323, -0.053632747, -0.011186461, -0.026745617, 0.030962652, -0.00069605827, 0.00037942693, -0.012905822, -0.0034174956, -0.03421741, -0.0719443, -0.020420067, -0.040557113, -0.005260679, -0.013662907, -0.023023874, 0.011214763, 0.022146504, 0.0103303185, 0.022316318, 0.0033538155, -0.00090036506, 0.010245412, 0.008561428, -0.029604144, -0.00028501241, -0.01778796, -0.042453364, 0.010641643, -0.035547614, 0.0012072675, 0.058189407, -0.008801997, 0.016613416, -0.039877858, 0.012969502, 0.019302128, -0.011257216, 0.020405916, 0.00511563, 0.030792838, -0.010337394, -0.002382695, 0.005939933, -0.005939933, -0.015254908, -0.00080794055, 0.022245562, -0.006049604, 0.0029345886, -0.008660486, -0.002847913, -0.020618184, 0.011009572, -0.049670435, -0.012509591, -0.023802185, -0.007719436, -0.01743418, -0.025231449, 0.010365696, -0.020377614, 0.018481364, -0.004089674, 0.006615649, 0.008851526, 0.01678323, 0.06396306, -0.0033768113, -0.006576733, -0.000110500354, -0.060453586, 0.030594723, -0.015905859, -0.0048467587, 0.00046079585, -0.032490972, -0.013309129, 0.025401263, -0.0049033635, -0.010549661, -0.0074576405, 0.0015460099, 0.007655756, -0.015792651, -0.000530667, -0.004362083, 0.011469483, -0.0109317405, 0.0054658703, 0.03359476, 0.0060920576, 0.0069234357, 0.048962876, -0.027099397, -0.032490972, -0.011766657, -0.013210071, 0.07381225, 0.040500507, -0.004018918, -0.044689238, 0.0009914628, -0.016019069, -0.02309463, -0.042594872, -0.011073252, 0.03486836, -0.0023048639, -0.0049033635, -0.038349535, -0.04069862, 0.022033295, -0.0062830974, 0.013712436, 0.016570963, 0.0040755225, -0.017363425, -0.033792876, -0.0087666195, 0.018891746, -0.007386885, 0.030453213, 0.004521283, -0.010217109, -0.0059293197, -0.030028678, -0.024212567, -0.02827394, -0.015636988, 0.04986855, -0.04483075, -0.029236216, 0.0032441444, -0.019174768, 0.014356312, 0.023688976, -0.009898709, 0.007960006, -0.042340152, 0.022443678, -0.02044837, -0.04709493, 0.004298403, 0.021622913, -0.010252487, -0.016698323, 0.0025436638, -0.028755078, 0.027410721, -0.046528883, -0.018750235, 0.0075071696, -0.012226569, -0.0016636411, 0.007033107, 0.01628794, 0.016740777, 0.043245826, 0.01805683, 0.031755116, 0.013769041, -0.036453288, 0.0007884828, -0.057085622, -0.017122855, -0.0030018066, -0.024212567, -0.024396531, -0.000699596, -0.018453062, 0.054595023, 0.010910514, 0.009842104, -0.00502011, 0.008115668, 0.0019227836, -0.0036120736, 0.028854135, 0.013011956, 0.02537296, 0.007882174, -0.011037874, -0.07432169, -0.029377727, -0.028316392, -0.0016034988, 0.027368268, -0.0026763307, -0.010875137, 0.010832683, 0.0075920764, -0.0044894433, -0.041321274, -0.015198303, -0.02915131, -0.0129412, -0.060906425, 0.0032972111, -0.03701933, 0.019146467, 0.032519277, -0.008596806, -0.006926974, -0.0026444907, 0.0037889625, 0.02438238, 0.02286821, 0.025825795, 0.0036616025, -0.0027382418, -0.012842142, 0.0057347417, -0.011462408, -0.006212342, -0.013521396, -0.073302805, 0.020844601, -0.009021339, -0.0047406256, -0.011342123, -0.030396607, -0.015792651, 0.017618146, -0.020646485, -0.06294418, 0.0024233793, 0.0064635244, 0.0011161696, 0.02019365, -0.022160655, 0.0055613904, 0.04749116, -0.04279299, -0.01464641, 0.015693594, 0.013747814, 0.018000225, -0.021665366, 0.0107407, -0.021622913, 0.02159461, -0.008455294, -0.03334004, -0.03670801, 0.020646485, -0.0044328384, -0.020179499, -0.006679329, 0.009162851, 0.016938891, -0.01541057, 0.03673631, 0.02940603, 0.010174655, 0.038689163, -0.0067040934, 0.012509591, 0.0015398188, 0.025670134, -0.0012391075, -0.024297474, -0.024339927, -0.020094592, 0.042623177, -0.029773958, -0.024198417, -0.0115331635, 0.04140618, -0.017122855, 0.03147209, -0.019542698, 0.010047296, 0.032745693, -0.00044620252, 0.031104164, -0.019641755, 0.032519277, 0.0048644478, -0.045142073, 0.004425763, 0.0061911154, -0.009962389, -0.034302317, 0.011922319, -0.028528659, 0.02271255, -0.03851935, -0.0005182848, -0.007995383, 0.0041321274, 0.0017043256, -0.010960043, 0.0026144194, -0.023646522, 0.003987078, 0.0013019032, -0.022372922, 0.0006186693, -0.0063078622, -0.019754965, -0.0022995572, 0.02071724, -0.0065802713, -0.029349424, 0.005136857, -0.008221801, 0.007206458, 0.031132465, -0.007181694, 0.0040825983, 0.03727405, -0.0074434895, -0.0006947316, 0.016344544, 0.012318551, -0.005660448, 0.00072878273, 0.014872828, -0.038236327, 0.00089594285, -0.0034139578, 0.010408149, -0.015778499, -0.028259788, 0.011455332, -0.01742003, -0.03082114, -0.035292894, 0.03560422, -0.014731317, -0.0044682166, 0.032745693, 0.017363425, -0.008702939, 0.026066365, -0.035292894, 0.035434406, 0.04567982, -0.042453364, 0.038349535, -0.008264255, -0.010436451, 0.019938929, 0.007213534, -0.021424796, 0.003980003, -0.027255058, 0.030707931, -0.0048219943, -0.027439022, 0.0003889347, 0.035491012, 0.011724204, -0.0009870407, 0.019245524, -0.00011260091, -0.02891074, -0.008320859, 0.006389231, -0.014561503, 0.014915281, 0.023901243, -0.033538155, -0.015835105, 0.048538346, 0.02196254, 0.042623177, -0.0056710616, 0.0022571038, 0.0024269172, -0.009622762, 0.003750047, 0.0007920205, 0.032009836, 0.009431722, -0.02562768, 0.008200575, 0.0003831858, -0.050802525, 0.026023911, -0.01754739, -0.0019280902, 0.025910702, 0.010882212, 0.006180502, 0.022556886, 0.010988345, -0.006084982, -0.03950993, -0.0055932305, -0.016995495, -0.005830262, -0.028302241, 7.092144e-05, 0.013953005, 0.032915507, 0.019273827, -0.037217446, 0.022571037, 0.01628794, 0.02299557, 0.03699103, -0.015099246, 0.02323614, 0.017278519, 0.043047708, -0.049698737, 0.05493465, 0.054849744, 0.014802072, -0.0050625633, -0.0065590446, 0.007960006, 0.03384948, 0.0040224562, -0.0036103046, -0.00065360486, 0.012912897, 0.041349575, -0.02777865, 0.026674863, 0.02487767, 0.010528434, -0.028457904, -0.025316356, 0.035717428, -0.011660524, -0.0039163227, 0.020377614, -0.0059646973, -0.0015477788, -0.0013823876, 0.026717316, -0.0127360085, -0.03509478, -0.01781626, -0.03311362, 0.0054163416, 0.0092477575, 0.0115048615, 0.0035926157, -0.04406659, -0.013691209, -0.0258824, 0.017844563, -0.023448408, -0.013210071, -0.0067288578, 0.008801997, 0.016514357, 0.004429301, 0.02789186, -0.004174581, 0.017773807, 0.026448445, 0.018622875, 0.0009127473, 0.008108593, 0.011391652, -0.002396846, -0.012410533, 0.00039313582, 0.015608686, 0.019882325, -0.0066227247, -0.014603957, -0.0012010763, -0.013684134, 0.010542585, 0.020292707, 0.025613528, -0.025203146, -0.026165422, -3.336016e-05, 0.02980226, 0.021863481, 0.0026356461, 0.003926936, -0.002138588, -0.004181656, 0.0018591034, 0.0048396834, 0.019287977, 0.020250253, 0.007896326, 0.024311624, -0.010075598, -0.019811569, 0.0035165534, -0.006530742, -0.015325664, 0.0005089981, -0.01276431, 0.0073727337, 0.01892005, 0.019641755, 0.0047052475, -0.023830486, 0.00313978, 0.011738354, 0.04432131, -0.032151345, 0.03192493, 0.012912897, 0.0039375494, -0.012007226, -0.00023857906, -0.004330243, -0.005409266, -0.019542698, -0.034641944, -0.030085282, -0.010132203, 0.01792947, -0.01566529, 0.017179461, -0.01678323, -0.024325777, 0.02006629, -0.004584963, 0.02298142, -0.03067963, -0.034075897, -0.012842142, 0.023773883, 0.06237814, 0.0031663133, 4.225989e-05, -0.03336834, 0.0003336569, -0.009254833, -0.028656019, -0.050321385, -0.016047372, -0.009955313, 0.053123306, -0.016754927, -0.028556962, 0.017490786, -0.002138588, -0.00035643135, -0.013408187, 0.06430269, -0.008391615, -0.037811793, -0.018891746, -0.015736045, 0.002589655, 0.005182848, 0.008250103, -0.019839872, 0.0037641982, -0.03727405, -0.01035862, 0.015594535, -0.0069623515, 0.025613528, 0.0048396834, -0.026986187, 0.034104202, -0.012283172, 0.00053685816, 0.039142, -0.015467175, 0.00014659677, 0.019372884, 0.0132596, 0.032038137, 0.0070224935, 0.016471904, -0.006336164, -0.012566195, 0.009000112, 0.014384614, 0.09520874, -0.0112925945, 0.0009481251, -0.025924854, -0.029009797, -0.0025047483, -0.0037783491, -0.014688863, -0.031104164, 0.02247198, -0.0048998254, 0.036679704, -0.02663241, 0.056519575, -0.010457678, -0.04092504, -0.0063007865, 0.01642945, -0.007337356, -0.008009534, -0.005985924, -0.013266676, -0.023915393, -0.036849517, -0.042764686, -0.02688713, -0.020122893, 0.005023648, -0.0126157245, 0.005186386, 0.024764461, 0.0017034411, -0.0016282633, -0.0063538533, 0.013471867, 0.0038880205, -0.01933043, -0.015368117, -0.00088665617, 0.004758314, 0.0069092847, 0.009651064, 0.027665442, -0.03600045, 0.021764424, -0.009771349, 0.012835067, -0.04143448, -0.0005885982, 0.03450043, 0.00019413569, 0.038491048, -0.009997766, 0.026490899, -0.02562768, 0.02550032, -0.04089674, -0.021226682, 0.014052063, -0.009431722, -0.01129967, 0.006870369, 0.016953042, 0.006679329, 0.03724575, 0.010754852, 0.022556886, 0.044434518, 0.014589805, 0.023802185, -0.010443527, 0.03305702, -0.004259487, -0.0065555065, 0.0060283775, -0.01345064, -0.025203146, -0.030623024, -0.02184933, -0.054113887, -0.019868173, 0.026915431, 0.04709493, 0.0050767143, 0.010507207, -0.018467212, -0.0027453175, -0.007846797, 0.009169926, -0.005317284, 0.0050130347, 0.03331174, 0.009636913, 0.0032423756, -0.008568504, -0.01079023, 0.002830224, 0.01528321, 0.020094592, -0.0023119394, 0.013231298, -0.033141926, -0.0012550275, -0.008688788, 0.019839872, -0.05467993, -0.003831416, 0.0015433566, 0.008993037, -0.0029363576, -0.003281291, 0.014292632, 0.012743084, -0.041717503, 0.031217372, -0.023759732, -0.02690128, -0.00808029, -0.04321752, -0.015750198, 0.03600045, -0.03648159, 0.0048326077, 0.012714782, 0.02535881, 0.024905972, 0.017533239, 0.04494396, 0.01933043, -0.0004260814, 0.012070906, -0.00053287816, 0.035745732, -0.007252449, 0.016089825, 0.031075861, -0.0009127473, -0.022882363, 0.01667002, 0.014929432, 0.03093435, -0.009934086, 0.03735896, 0.013500169, 0.006965889, -0.0013815032, 0.026915431, -0.025571074, 0.00089638506, -0.024028603, -0.008327935, -0.02917961, 0.004910439, 0.00048025366, 0.028542811, 0.060906425, -0.023434255, -0.0103303185, 0.019783266, -0.014200649, 0.006873907, -0.02398615, 0.013931778, 0.0036580646, 0.014618108, -0.003074331, -0.011448257, -0.016613416, 0.009304361, 0.0019351657, -0.0029009797, -0.007001267, 0.007238298, 0.0055613904, -0.037047636, 0.01396008, -0.029236216, 0.060566798, -0.007662832, -0.011964773, -0.027439022, -0.011497785, 0.007337356, -0.019571, 0.029207913, 0.013726587, -0.0067890002, -0.024594648, -0.01079023, -0.0530101, 0.023391802, 0.00640692, -0.0025595839, 0.028740926, -0.012516666, -0.028712625, -0.029773958, -0.02146725, 0.022118201, -0.055642206, -0.014342161, -0.01477377, 0.023335198, 0.033000413, -0.00089992286, 0.014200649, 0.017844563, 0.01388225, -0.046500582, -0.015424722, 0.016839834, 0.0011621608, 0.012368079, 0.04151939, 0.02940603, 0.02196254, -0.043359034, -0.012261946, -0.033538155, -0.0038738693, -0.0039021715, -0.01906156, -0.0019104013, 0.0041250517, -0.027962614, -0.020519124, -6.202171e-05, 0.0035130158, -0.031217372, -0.027127698, 0.048708156, 0.012396382, 0.006467062, -0.009835029, 0.013351582, 0.01892005, -0.0039517004, -0.036396682, -0.01679738, 0.017363425, 0.019854022, -0.019556848, 0.017448332, -0.010337394, -0.027637139, 0.038462747, 0.015396419, 0.03597215, -0.017519087, 0.018580422, -0.011589767, -0.021382343, 0.038066514, -0.0038526426, -0.0020536813, -0.002414535, 0.018170038, 0.0043373187, -0.010457678, 0.0031610066, 0.022953117, 0.016316243, 0.024608798, 0.025203146, 0.0070614093, 0.007726512, -0.011809111, -0.012488364, 0.008228877, 0.0075213206, -0.011030799, -0.019740812, -0.00023747349, -0.018863443, -0.022797456, 0.032490972, -0.008158121, -0.0023880017, -0.006226493, -0.019217221, 0.0004886559, 0.03750047, -0.0140591385, -0.018962502, -0.01502849, 0.0041781184, -0.0017078634, 0.04596284, -0.031075861, -0.013103938, -0.017066251, -0.0024693706, 0.004057834, 0.015566233, -0.0024835216, 0.024934275, 0.027552232, -0.0202078, 0.015736045, -0.006194653, 0.04069862, -0.0038738693, -0.030028678, 0.045594912, 0.009254833, 0.034104202, -0.010882212, 0.06237814, 0.018453062, 0.00903549, 0.00028700242, 0.0051580835, 0.0038031137, 0.028372997, 0.0085260505, 0.0037889625, -0.0013134009, -0.016372846, -0.01880684, 0.0030690243, 0.0060460665, 0.009990691, -0.0006146893, 0.0028850597, -0.056208253, -0.006240644, 0.023335198, -0.03809482, 0.029887168, 0.0064246086, 0.0153822685, 0.0142997075, 0.0064635244, 0.016118126, 0.027467325, -0.0014575655, -0.011384577, -0.014200649, 0.0063503156, -0.014292632, -0.01654266, -0.020137046, -0.020745544, -0.026165422, -0.028740926, 0.0013063253, -0.036453288, -0.0039340113, -0.013839796, -0.0008105939, 0.008738317, 0.008221801, -0.015396419, -0.023179535, 0.014094517, 0.02929282, 0.014363388, -0.027481476, -0.050038364, -0.043840174, -0.036821216, -0.007245374, 0.027962614, 0.021792727, 0.0028160731, 0.039481625, -0.043274127, 0.004747701, -0.00038628138, 0.027368268, -0.009452948, 0.0141794225, -0.00062309153, -0.037953306, -0.0016689477, 0.012184115, 0.020901205, 0.0053455858, 0.035802335, 0.036424983, -0.0034422602, 0.052217636, -0.009028415, 0.007160467, 0.022825757, -0.03956653, -0.003491789, -0.000510767, 0.027410721]]\n"
     ]
    }
   ],
   "source": [
    "from cheat_code.common_components.vectorizers import Vectorizer\n",
    "\n",
    "example_text_splits = [\"Mary had a\", \"little lamb\"]\n",
    "vectorizer = Vectorizer()\n",
    "embeddings_of_example_splits = vectorizer.vectorize_text_splits(example_text_splits)\n",
    "\n",
    "rows = len(embeddings_of_example_splits)\n",
    "columns = len(embeddings_of_example_splits[0])\n",
    "\n",
    "print(f\"Dimensions: {rows}x{columns}\")\n",
    "print(embeddings_of_example_splits[0:10])"
   ]
  },
  {
   "cell_type": "markdown",
   "metadata": {},
   "source": [
    "Implement `vectorize_text_splits()` in `workshop_code/common_components/vectorizers.py` by referencing the [OpenAI embedding API's documentation](https://platform.openai.com/docs/api-reference/embeddings)."
   ]
  },
  {
   "cell_type": "code",
   "execution_count": 11,
   "metadata": {},
   "outputs": [
    {
     "name": "stdout",
     "output_type": "stream",
     "text": [
      "Dimensions: 2x1536\n",
      "[[0.022420611, 0.01908309, -0.022541732, 0.04556794, -0.040561657, -0.011593852, 0.023026211, 0.017912265, -0.003990223, -0.025394775, 0.038542997, 0.0031995801, 0.03248701, 0.056522552, 0.008478383, 0.005574873, 0.03375204, -0.015772482, -0.01184282, 0.0392428, 0.0487978, 0.024048999, 0.048770886, -0.014278673, 0.016741442, -0.0180603, 0.005097123, -0.04443749, 0.017966097, 0.007556527, 0.03978111, -0.027359607, 0.048071083, -0.0092252875, -0.0047775013, 0.045944758, 0.037412547, 0.017024053, -0.0015947435, 0.010557605, -0.012616641, 0.016122384, 0.0430648, -0.0072941007, 0.0068567237, -0.0034031286, -0.037735533, 0.036766574, 0.0592141, 0.03606677, -0.009131083, 0.010073126, -0.0023315551, 0.025435148, -0.006537102, -0.04976676, -0.02021354, 0.0028715474, 0.033402137, -0.019163836, -0.025381317, -0.0073748473, 0.022743598, -0.032513924, -0.007442136, -0.027548015, 0.02524674, 0.040776983, -0.035313137, -0.0068735457, 0.05407324, 0.03267542, -0.0090570655, 0.034909405, 0.015880145, 0.01795264, 0.0072335405, -0.038785238, -0.021545859, 0.028449684, 0.05089721, -0.007818953, -0.027426895, -0.0061501916, 0.039673448, -0.030414516, 0.031733375, 0.033590544, -0.01453437, 0.013955687, 0.0008806415, 0.018894682, 0.019244583, 0.009803971, -0.011089186, 0.011116101, -0.017898807, -0.03913514, -0.014090264, 0.06723492, 0.03254084, -0.0071460656, -0.026336817, 0.009306034, -0.01130451, -0.005635433, 0.015839772, -0.037547123, 0.02326845, 0.032271683, -0.049443774, -0.07487892, 0.00032908405, -0.0004323302, 0.018504407, 0.012226366, 0.034451842, -0.018235251, 0.010954609, -0.027642218, -0.025233282, 0.0047505856, -0.00843801, -0.05065497, -0.016014723, 0.03913514, -0.032971486, 0.029445557, -0.043710772, 0.043576196, 0.030414516, -0.016189674, 0.020294288, -0.0388929, 0.0076238154, 0.016014723, -0.0010505456, -0.039861858, 0.005127403, -3.361809e-05, 0.042311165, -0.04575635, 0.04957835, 0.01937916, 0.004515075, -0.007011488, -0.00055092666, 0.052377563, 0.021034464, -0.011540021, -0.005238429, 0.022030337, -0.0013928772, -0.00945407, -0.0022020245, -0.04947069, -0.01793918, 0.0049322653, 0.0011397032, -0.029580135, 0.00056144054, -0.014749695, -0.0014954925, -0.04228425, -0.019540653, -0.0056959926, -0.038300756, 0.03827384, -0.07041095, -0.04061549, -0.027749881, -0.04443749, 0.004430964, 0.016068554, -0.049632184, -0.0068567237, -0.021747725, -0.031033572, -0.050197408, -0.009157999, 0.00478423, 0.06798855, 0.031571884, -0.021088295, -0.033994276, -0.014628574, 0.035797615, -0.0014080171, 0.03787011, 0.00636888, 0.02099409, -0.04432983, 0.05969858, 0.008855199, 0.017118258, 0.009413696, 0.018141048, -0.018167963, -0.022622477, 0.030441431, 0.020119337, 0.010550876, 0.05582275, -0.04772118, 0.009487714, -0.029257149, 0.0024173483, -0.022003422, 0.013047289, -0.026000373, 0.06136734, -0.00090251036, -0.032164022, -0.018813934, 0.010981524, -0.004790959, 0.050628055, 0.011802447, 0.0230935, 0.0019009073, -0.056737874, 0.038193095, 0.076763004, 0.05689937, -0.029526304, -0.013363546, 0.0035326595, -0.01208506, -0.034048107, -0.00059718767, 0.02470843, 0.02422395, -0.0015081092, -0.016243504, -0.026229154, 0.02608112, 0.0044948887, 0.0122936545, 0.026902042, 0.0038455522, -0.034532588, 0.015516786, -0.0068298085, 0.0107729295, -0.020684563, 0.010618165, -0.011560207, -0.051785424, -0.0029590228, 0.04766735, 0.012037958, -0.034263432, -0.014009518, 0.01597435, 0.017306667, 0.03840842, -0.016310792, 0.040400166, 0.05113945, -0.03200253, -0.015772482, 0.033698205, -0.058245145, -0.038193095, -0.01357887, -0.011910109, 0.0055681444, 0.020859513, 0.015139969, 0.024775717, 0.010961338, -0.028907247, 0.050224323, 0.045729436, -0.033590544, 0.0013339994, 0.0015939022, 0.012273468, -0.03566304, 0.039323546, 0.009608834, -0.0019278227, 0.008983049, -0.015274546, -0.0070787766, 0.012939627, 0.020778766, 0.010497045, 0.025556268, 0.028072868, -0.05819131, -0.012838693, 0.020200083, -0.003714339, -0.025758134, 0.0037277967, 0.007892971, 0.0120244995, -0.020267371, 0.034451842, 0.06836537, 0.06777323, 0.038381502, 0.0035730328, 0.002745381, 0.060452215, 0.06271312, -0.04624083, 0.010739285, 0.02955322, 0.021989964, 0.016310792, -0.057437677, 0.052189156, 0.02524674, -0.03679349, -0.03910822, 0.0014139048, -0.0150592225, -0.042364996, -0.018033385, -0.004383862, -0.0035999482, -0.053615678, -0.024681514, 0.010019295, -0.012771405, 0.037708618, 0.021263245, -0.02739998, 0.026282987, 0.009339679, 0.0031272448, -0.0057430947, 0.006220845, -0.05299662, 0.02392788, 0.033644374, -0.010853675, -0.007980446, 0.029822374, -0.089951605, -0.015113054, 0.025892712, 0.0036706014, -0.026188781, -0.00035978455, -0.02236678, 0.01394223, 0.03439801, -0.012771405, -0.024600767, 0.034963235, 0.013020373, 0.02064419, -0.0097299535, 0.007361389, -0.029364811, 0.010026024, 0.075417235, -0.00039511113, 0.033186812, 0.037547123, 0.005561415, -0.008875386, 0.02793829, -0.030279938, 0.024668057, -0.019163836, 0.028099783, -0.017723856, 0.059429426, 6.113814e-05, 0.013262613, -0.064328045, 0.052969705, 0.0180603, -0.024627684, -0.038812153, 0.007610358, -0.00903015, -0.010301908, -0.020711478, 0.008128481, -0.026484853, 0.003322382, -0.010093313, -0.016701069, -0.013652887, 0.016055096, 0.028449684, -0.0052014203, -0.0376817, 0.0041954536, -0.081338644, 0.021545859, 0.0009798924, 0.073317826, 0.028611178, 0.017818062, 0.00016054676, -0.066642776, -0.0388929, -0.022380238, -0.007805495, 0.0060694455, -0.0047236704, -0.009380052, -0.01991747, 0.019755978, -0.0550422, 0.0014273627, 0.025650471, 0.013121307, 0.028315106, -0.0061232764, 0.014870814, 0.0037883567, -0.02099409, -0.015045765, -0.025139077, -0.007260456, 0.004774137, -0.055284437, 0.0030414516, -0.03267542, -0.00873408, -0.03111432, 0.008821555, -0.043710772, -0.038489167, 0.024896838, -0.032164022, -0.002230622, 0.04834024, 0.0036806946, -0.08080033, 0.029203318, -0.020240456, -0.04575635, 0.009716496, -0.022164915, 0.048959296, -0.0051341318, -0.06120585, -0.036093686, -0.006284769, -0.018356372, -0.030656755, 0.0008120911, -0.016055096, -0.06039838, -0.030172275, -0.017979555, 0.04869014, 0.051650845, -0.019473365, 0.017400872, 0.006735604, -0.042364996, 0.005036563, 0.017172089, 0.020765308, 0.009386781, 0.0085524, -0.02010588, 0.0630361, -0.05582275, -0.06142117, 0.00077340007, -0.023295365, 0.025596641, 0.026363732, 0.020617273, -0.048071083, 0.017266294, -0.01842366, -0.004811146, 0.031329643, -0.012724303, 0.0062174806, 0.013753821, 0.018813934, 0.034182686, -0.025273655, 0.042661067, -0.011324697, 0.062067144, 0.030010782, -0.041369125, -0.015382209, 0.0044948887, 0.0044814306, -0.013417377, -0.0026797745, -0.0037782635, 0.05049348, -0.012704116, 0.00945407, -0.03504398, 0.02536786, -0.01752199, 0.029176403, 0.0284766, 0.01812759, -0.011149746, -0.024560394, -0.0046799327, 0.016458828, 0.022582104, -0.029580135, 0.009083982, 0.019998217, -0.003430044, -0.0053259046, -0.0031928513, 0.021613147, -0.019688688, 0.00018851364, 0.041799773, -0.028611178, 0.008895573, 0.018383287, 0.026713634, 0.048259493, -0.04120763, 0.014547828, -0.02332228, 0.006796164, 0.021330534, 0.0135721415, -0.0153283775, 0.0151938, 0.021720808, 0.014722778, 0.013128036, -0.033159897, 0.025206367, -0.0125291655, 0.045998592, 0.019258041, 0.015341835, -0.006890368, 0.009083982, 0.003684059, 0.057222355, -0.0039868583, 0.005776739, 0.0029136029, 0.031787205, 0.020469239, 0.050170492, 0.023726014, -0.027144283, 0.01590706, -0.021182498, 0.021976506, -0.016108926, -0.04761352, 0.00326014, -0.021586232, 0.008767724, 0.01687602, -0.005154318, -0.009521359, 0.0029337895, 0.022286035, 0.017696941, -0.03396736, -0.018073758, -0.0057262727, 0.040238675, 0.031625714, -0.036578164, -0.028072868, -0.044868138, -0.008303432, -0.015234173, 0.025071789, -0.053346522, 0.004319938, -0.0077987663, 0.018800477, 0.015812857, -0.027965205, 0.037843194, 0.06513551, -0.006473178, -0.026457937, -0.00022983314, 0.024560394, 0.020186625, -0.016095469, 0.062067144, 0.017481618, 0.03725105, -0.027534558, -0.017212462, 0.011136289, -0.010059669, 0.02021354, -0.013215511, -0.0067322394, 0.012912711, -0.024210492, -0.03283691, 0.016579948, -0.0007124196, -0.023160787, 0.031733375, 0.003044816, 0.008606231, 0.049982086, 0.008094837, -0.03846225, 0.02542169, -0.014722778, -0.028907247, -0.012313842, -0.011762073, -0.0031995801, 0.004642924, 0.0018235252, 0.020401949, 0.0039162054, 0.028557345, -0.011815905, -0.006442898, 0.01561099, -0.010820031, 0.0036571436, -0.00753634, 0.02278397, 0.022595562, -0.01818142, 0.015785942, -0.041907433, -0.019056175, -0.0005950849, 0.0153283775, -0.010382654, 0.020052047, -0.017481618, -0.0064765424, 0.0047808657, -0.011324697, 0.011957211, 0.009952006, -0.026955875, -0.016606864, 0.013652887, 0.004774137, 0.026511768, -0.01896197, 0.0065942975, -0.049093872, 0.00070484966, 0.004097885, 0.018787019, 0.016660694, 0.016579948, 0.014009518, 0.0013365229, -0.040588576, 0.013477937, -0.0036234993, -0.041772857, -0.026161866, -0.0042862934, -0.014009518, 0.042095844, 0.0038590098, 0.053131197, -0.03978111, 0.028503515, 0.025340945, -0.011391985, 0.027373064, 0.026538683, 2.5588124e-05, -0.008801369, 0.007543069, -0.018881224, 0.030279938, 0.019365702, 0.004208911, -0.014749695, 0.00031583657, -0.059483256, 0.016822187, -0.020657647, -0.0015644635, 0.060882863, -0.009676122, 0.00544366, -0.002745381, 0.0125291655, 0.0012793274, 0.033429053, -0.056576382, 0.0075969, -0.0030044427, 0.023766387, 0.0054470245, 0.013531768, -0.039027475, -0.01758928, 0.0058070193, 0.013451021, 0.0001894599, -0.024452733, 0.0101673305, 0.04737128, 0.027305774, -0.02655214, -0.025044873, -0.011486189, -0.03391353, -0.012273468, 0.050520394, 0.024533479, -0.01836983, -0.009191643, 0.023645267, -0.0010623211, -0.030468347, 0.015543701, 0.018033385, -0.024493106, 0.022649394, 0.02326845, 0.012704116, -0.00046050738, -0.011762073, 0.014749695, 0.00093783694, -0.049901336, 0.019836724, -0.019702146, -0.008337076, 0.04648307, 0.011136289, -0.022138, 0.004666475, -0.006029072, -0.018087216, 0.0039262986, 0.029337896, -0.027319234, 0.004151716, -0.027669134, 0.010557605, 0.02338957, -0.0018504406, -0.035932194, -0.039269716, -0.05221607, 0.001191852, 0.027386522, -0.024008626, 0.00394985, 0.045837097, 0.010914235, -0.00502647, -0.034774825, -0.019432992, 0.03380587, -0.018046843, 0.030522177, 0.02231295, 0.0101673305, 0.014830441, 0.008626418, -0.013915313, 0.020442322, 0.014493997, 0.012132162, -0.039808024, 0.053857915, 0.019163836, -0.025690844, 0.0026545413, -0.034451842, 0.018329456, 0.00052569335, 0.011566936, -0.0097299535, -0.01687602, -0.03205636, -0.032083277, 0.004804417, 0.022891633, 0.010624894, 0.0041012494, -0.0002792483, -0.022945464, -0.0023063219, -0.031571884, 0.0126637425, 0.02984929, -0.024506563, 0.034963235, 0.015005391, 0.012858881, -0.0055479575, 0.032137107, 0.0014357737, -0.022178372, 0.035555378, -0.01758928, -0.0014425026, 0.011492918, 0.033886615, 0.0046631102, -0.0057868324, -0.03894673, -0.006473178, 0.032298602, 0.009447341, 0.00054377725, 0.019110005, -0.04384535, 0.0057700104, -0.012542623, 0.01345775, 0.009978922, -0.020549985, 0.03135656, 0.011849549, 0.019163836, 0.028907247, -0.015987808, -0.021586232, -0.03547463, 0.01950028, 0.020267371, 0.0010825078, -0.032513924, -0.019325329, 0.008707165, 0.031383473, -0.029795459, -0.0017966096, 0.011089186, -0.008538943, -0.00873408, -0.032513924, -0.02984929, -0.03062984, 0.027722966, -0.021586232, -0.023591436, 0.011990855, -0.03875832, 0.04085773, 0.0024072551, -0.019217668, -0.035447713, 0.00064008427, 0.01238113, -0.022178372, -0.010833489, -0.03267542, 0.0014164282, -0.017077886, -0.02267631, 0.002799212, 0.012805049, 0.043468535, 0.04144987, 0.00036546204, -0.005598424, -0.025394775, -0.036335927, 0.008639876, 0.0022171643, -0.0047640437, -0.012724303, -0.018679358, 0.06018306, 0.010907507, -0.017535448, 0.015086138, 0.013834567, -0.012589726, 0.045325704, -0.002999396, -0.038623743, -0.031329643, 0.016203132, 0.016727984, -0.053615678, -0.018275624, -0.044356745, -0.0041550803, -0.025865795, -0.0014626893, -0.018988885, 0.03725105, -0.030872079, -0.029149488, -0.004885163, -0.0107662, 0.0027823898, -0.008384178, 0.026928958, 0.016189674, -0.0074555934, -0.00165278, -0.008464925, 0.0033728487, 0.020819139, 0.02470843, -0.036820404, 0.025690844, 0.0019295049, -0.005682535, -0.010416299, -0.01567828, 0.027615303, 0.0014980158, -0.0050096475, 0.010281721, 0.0062141162, 0.0269155, -0.007267185, -0.022151457, 0.029956952, 0.07213354, -0.018396745, 0.0075026955, -0.02398171, 0.012845422, 0.013094391, 0.0026242612, -0.04438366, -0.0053158114, -0.020684563, 0.0149919335, 0.019190751, 0.004289658, -0.03910822, 0.006251125, -0.0152610885, 0.014197926, 0.016579948, -0.010974796, 0.046967547, 0.022985836, 0.050251238, 0.0117217, -0.017562363, 0.010564334, 0.0019782893, -0.013874941, -0.0044175065, 0.014022976, -0.015772482, 0.030656755, 0.056091905, -0.022797428, 0.01244169, 0.011795718, -0.005460482, -0.015032307, -0.016889477, 0.010355739, -0.017993012, 0.0076911044, 0.06551233, -0.026309902, -0.007260456, 0.054988366, 0.020872971, -0.016095469, -0.0025250104, 0.018396745, 0.023026211, -0.00028829023, -0.031275813, -0.011358341, 0.06282078, -0.0037311614, -0.0095953755, -0.014130638, -0.008868657, 0.0005387306, 0.01651266, 0.023766387, -0.026309902, 0.032971486, 0.049739845, -0.007603629, 0.02255519, -0.018881224, 0.0034418197, -0.017629653, -0.012973271, -0.010396112, 0.021330534, -0.034855574, -0.028395852, -0.0067692483, 0.042607237, -0.01244169, -0.000730083, 0.016553033, -0.03361746, 0.0055378643, 0.019769436, -0.01913692, 0.0098107, -0.0023433308, -0.053400353, -0.039565787, -0.011385256, -0.0042963866, 0.0045251683, 0.025206367, -0.0040743337, 0.018262167, -0.007650731, -0.0041113426, -0.035313137, -0.0319487, -0.0095079, -0.021734267, 0.032917656, -0.0070855054, 0.012058144, -0.0025670659, -0.006227574, 0.015207258, 0.009312763, -0.0107729295, -0.016378082, -0.045271873, -0.040669322, -0.038812153, 0.033267558, -0.04863631, -0.00085162325, -0.011311239, 0.025394775, 0.0062612183, 0.013726905, 0.0043704044, 0.005366278, 0.0039633075, -0.006890368, 0.018450575, -0.032190938, -0.041745942, -0.009413696, -0.029822374, 0.0057060863, 0.045944758, 0.0045756353, -0.013713447, 0.04874397, 0.011297781, 0.009709767, -0.0070787766, -0.002575477, 0.008747538, -0.019661773, 0.056361057, -0.026605973, -0.003643686, 0.04403376, 0.007913157, 0.045541026, -0.0190158, 0.041772857, 0.0017158631, 0.008390907, 0.020724935, -0.034182686, 0.0055782376, 0.029687798, 0.020388491, 0.02368564, 0.01567828, 0.011277595, -0.016297335, 0.008027548, 0.037600953, -0.0029876207, 0.018679358, 0.011540021, 0.011264137, -0.0033442508, -0.021572774, 0.001815114, 0.03111432, -0.0010808256, -0.014520912, -0.020886429, 0.0123945875, -0.006227574, 0.005699357, 0.010853675, 0.00069391524, -0.046617646, -0.045433365, -0.0046563814, -0.009097439, 0.0044646086, 0.0036874237, 0.039323546, -0.023537606, 0.013363546, -0.0028698652, -0.038919814, 0.033267558, 0.00795353, -0.03953887, -0.042149674, 0.0025519258, 0.022030337, -0.019796351, -0.007805495, -0.0014382971, 0.02278397, -0.015785942, 0.002452675, -0.0098308865, -0.009857802, 0.0025283748, 0.008249601, 0.022703225, 0.0053561847, 0.06352058, 0.028584262, -0.0025653837, 0.02201688, -0.0029893029, 0.012125433, 0.014830441, 0.003583126, 0.044706646, -0.008895573, 0.031060487, 0.024789175, 0.014251757, -0.022568647, 0.023295365, 0.123811305, 0.0055479575, -0.018315999, -0.0021784734, -0.01214562, -0.0033425686, 0.037358716, 0.038193095, 0.042984053, 0.009528087, -0.008289974, -0.017373955, -0.01184282, -0.0062343027, 0.03703573, 0.013928772, -0.008579316, 0.015355293, 0.008229414, -0.006237667, -0.008848471, -0.024264324, -0.020267371, 0.0019295049, -0.02632336, -0.028853416, -0.011741887, -0.04492197, -0.012280197, 0.012475334, 0.039996434, 0.009770326, 0.012690659, -0.024587309, 0.011923566, 0.006496729, 0.004050783, -0.011439088, -0.015584075, 8.312526e-06, 0.013054018, -0.028907247, 0.0007258774, 0.030952826, 0.022958921, -0.0016544622, -0.034317262, -0.008222685, 0.035366967, 0.013753821, -0.008411094, -0.005235065, -0.036147516, 0.0153956665, -0.015113054, 0.020361576, -0.011358341, -0.026834754, -0.00056102, 0.0180603, -0.008417822, -0.012219638, -0.023039669, -0.018517865, 0.02655214, 0.0153956665, -0.04188052, 0.0029489296, 0.02069802, 0.0021633334, 0.016620321, 0.0026108036, 0.060613707, -0.009346408, -0.02201688, 0.020684563, -0.0045184395, -0.015651364, -0.01783152, -0.04672531, -0.029633965, 0.0018353007, -0.011492918, -0.022272578, 0.0012725985, -0.00027609416, -0.0071527944, 0.0300377, 0.0041954536, -0.030414516, 3.2750697e-05, 0.0058372994, -0.01741433, 0.015718652, 0.02170735, 0.018396745, 0.032083277, -0.003475464, 0.0011666188, -0.011889922, -0.016162759, -0.032379348, -0.01585323, 0.008431281, -0.002851361, 0.004922172, -0.035582293, 0.020724935, -0.015207258, -0.016849102, -0.04325321, 0.021021007, 0.021370908, 0.0011523198, 0.0026343546, 0.010093313, -0.020832598, 0.008020819, -0.018396745, -0.040507827, -0.027023163, -0.00041340527, 0.0045386264, 0.011930295, -0.021963049, 0.014628574, -0.0025519258, 0.04457207, 0.051435523, -0.013175137, -0.03762787, 0.027413437, 0.009184915, -0.029230233, -0.0046092793, 0.03673966, 0.0062814048, -0.020617273, 0.021626605, -0.010564334, -0.00035684067, 0.04492197, 0.030253023, -0.0034048108, -0.015920518, -0.002553608, 0.00054167444, 0.020765308, -0.027480725, 0.006621213, -0.004282929, -0.0042324625, -0.005211514, -0.01908309, 0.035851445, -0.0028866874, -0.014224842, -0.011257408, 0.027494183, -0.01836983, -0.014520912, -0.008162126, 0.013794194, -0.00212296, -0.012125433, -0.029337896, -3.3066113e-05, -0.0014181104, -0.008101566, -0.028907247, -0.015436039, -0.0037648056, -0.018679358, -0.028584262, -0.03690115, 0.0074623227, -0.0024711795, 0.011923566, 0.03439801, -0.013780736, -0.014574744, -0.027076993, -0.015691737, -0.0015678279, -0.0021818378, 0.011492918, -0.006543831, -0.014224842, -0.0303876, -0.031491134, 0.013551954, 0.04408759, 4.899462e-05, -0.026538683, -0.024923753, 0.009252204, 0.011990855, -0.008606231, -0.018988885, -0.010537419, -0.0515701, -0.031894866, 0.004030596, 0.05366951, 0.03254084, 0.00083774497, 0.03894673, 0.04193435, -0.021559317, 0.019850181, 0.008202499, -0.016593406, 0.026484853, -0.013181866, 0.008444739, -0.01142563, -0.03402119, -0.014574744, -0.019419534, -0.001453437, -0.014830441, -0.07218737, -0.011277595, -0.0074017625, -0.058352806, 0.0180603, -0.037654784, -0.033267558, -0.00975014, 0.034909405, -0.006452991, 0.013383732, -0.003983494, -0.010665267, 0.0023349198, -0.010254806, -0.018221794, -0.046321575, -0.012313842, 0.02111521, 0.019823266, -0.020280829, 0.023403028, 0.042822562, -0.0026208968, 0.022932006, 0.00025317393, 0.01047013, 0.0054167444, 0.0019631493, -0.023739472, -0.009171457, -0.013249155, -0.008956132, -0.01394223, 0.009420425, -0.012905982, -0.028261276, 0.03165263, 0.005756553, -0.04295714, -0.00031247214, 0.0071258787, 0.0007342885, 0.029741628, 0.007845868, 0.007966988, -0.026902042, 0.03267542, 0.014884272, 0.0068096216, 0.033186812, -0.012179264, -0.029149488, 0.0041651735, -0.006352058, -0.0063655158, -0.0122936545, -0.0028328565, -0.009615563, 0.008801369, 0.020724935, -0.0033711665, -0.009292576, 0.024156662, -0.032352433, -0.0074757803, -0.01304056, -0.008942675, 0.0029102385, 0.010833489, -6.597452e-05, -0.016647236, -0.013282799, 0.059321765, 0.01991747, 0.002575477, -0.01448054, -0.01687602, -0.0024913661, -0.012872338, -0.005611882, -0.00699803, 0.017441245, 0.029876206, 0.0338597, 0.03762787, 0.034559503, 0.0125964545, -0.016149301, 0.0300377, 0.007933344, 0.004299751, -0.0380316, -0.022178372, -0.027830627, 0.019581027, 0.021317076, 0.04511038, 0.009373323, -0.019392619, 0.005265345, 0.006604391, 0.0307375, -0.045244955, 0.032271683, -0.029418642, 0.029418642, 0.025744677, 0.007334474, -0.008626418, 0.02984929, -0.01268393, -0.008579316, -0.018571695, -0.0101000415, -0.024371985, 0.024910295, 0.022272578, -0.0038489166, 0.024910295, 0.009097439, -0.019944387, 0.012784863, 0.0026511769, 0.008895573, -0.0069172834, -0.0052148784, 0.0042425557, 0.0052788025, -0.0047034835, -0.018410202, -0.014695863, -0.011344884, -0.026646346, -0.0030313584, 0.0043872264, -0.050358903, -0.008902302, 0.0074959667, 0.0064159823, -0.0032248134, 0.0017343676, -0.0033577087, -0.012354215, 0.036416672, -0.000438218, 0.00020155084, 0.0049793674, 0.026686719, -0.018746646, -0.019513737, -0.0155302435, -0.016499203, -0.002060718, -0.007650731, -0.0002218426, 0.010301908, -0.0044343285, 0.016055096, -0.013228969, -0.033429053, -0.008902302, 0.02106138, 0.024479648, 0.0015728746, -0.03797777, 0.0009260614, 0.028611178], [0.022146856, -0.041831378, -0.020745873, -0.038491663, -0.0144556, -0.021991191, -0.033482086, 0.070190676, -0.005190006, -0.0065449974, -0.021354381, -0.003636896, -0.041378535, -0.004478901, 0.006966, 0.042737067, 0.0077973916, -0.026576228, -0.014547584, 0.041718166, 0.0017910297, -0.027297946, -0.014427297, -0.0013381867, 0.007655878, -0.020335484, 0.020519452, -0.04018982, 0.034331165, -0.049473107, 0.0127362115, -0.029576313, 0.014101816, -0.05352039, -0.00020099334, -0.012290444, 0.018255236, -0.020123214, -0.018311841, -0.024198802, -0.045878664, -0.022231765, 0.025189396, -0.04129363, 0.04896366, 0.041774772, -0.007401154, -0.008016737, 0.0066086785, 0.038491663, 0.028953655, 0.00040132334, 0.012304596, 0.09051201, -0.0409823, -0.016783496, 0.008427126, 0.028246086, 0.008844592, -0.042623855, -0.017618425, -0.023788413, 0.024326164, 0.0057029924, -0.01188713, 0.028062118, -0.058529966, 0.016783496, -0.005628698, -0.00856864, 0.0409823, -0.005752522, -0.044746555, 0.009821034, 0.008030889, 0.011766844, -0.028727232, 0.006276122, 0.032887727, 0.030849934, -0.0072879433, 0.014972124, -0.02029303, -0.06390748, -0.0017193885, -0.046642836, -0.012000341, 0.027736638, 0.042142708, -0.006141684, 0.031812225, 0.0037182663, -0.039057717, 0.005971868, 0.02680265, 0.024863916, -0.0018432129, 0.013684352, 0.025387514, 0.0494165, 0.020887386, -0.036538776, 0.0050237277, -0.03311415, -0.05521855, 0.0039729904, 0.029208379, -0.03017067, -0.030312182, 0.034444377, -0.03701992, -0.022373278, -0.01744861, 0.056520477, 0.022557246, -0.0022606775, 0.0441805, 0.0057206815, -0.017335398, -0.05847336, -0.0032583475, 0.029038562, 0.007033219, -0.076813504, -0.03554818, -0.010387088, 0.024439374, 0.017887302, -0.024297861, -0.01766088, 0.025840357, -0.022359127, 0.03554818, 0.014646643, 0.06951141, -0.0034564664, 0.011802223, 0.0005505758, -0.036227446, -0.005083871, 0.045793757, -0.011957888, -0.005451806, 0.015495724, 0.012014492, 0.023222359, 0.010953141, 0.022896878, -0.027793244, -0.00830684, -0.015396665, -0.012693757, -0.01355699, -0.019175073, -0.060794182, -0.0026056166, -0.03059521, -0.052246768, -0.021297775, 0.03982189, -0.03133108, -0.001764496, -0.00023814062, 0.019401496, 0.0038456284, 0.001903356, -0.05173732, 0.03427456, -0.0820212, -0.01672689, 0.023477083, -0.0035077648, 0.05054861, -0.034217954, -0.028925352, -0.026760194, 0.002251833, -0.031982042, -0.030255578, 0.014151346, 0.0147174, 0.03311415, 0.030029155, -0.023462933, 0.025628088, -0.034302864, 0.0059612547, 0.024099743, -0.012339974, -0.003612131, -0.01077625, 0.0038668553, 0.0567752, -0.020420393, 0.07483232, 0.0066794353, 0.016868405, 0.018467506, -0.0023933463, 0.0032194313, 0.012474411, 0.035265155, 0.040953994, -0.049784437, 0.006035549, 0.010712569, -0.05162411, 0.0011241476, -0.037501067, -0.0504637, 0.065945275, 0.010663039, 0.01702407, -0.026547926, -0.03826524, 0.025260152, 0.030680118, 0.0567752, -0.0014452062, 0.03532176, 0.014271633, 0.0013505691, 0.0420578, 0.0041463445, -0.004910517, -0.01587781, 0.011780996, -0.08077588, -0.038718082, -0.0012559319, 0.04395408, 0.0069730757, -0.016882556, 0.04174647, -0.012948481, 0.0315292, -0.0068351002, -0.014052287, 0.00019336487, -0.050378792, -0.025387514, -0.045991875, -0.010125288, 0.001646863, -0.01172439, 0.006453014, 0.0021227018, -0.019811884, -0.043020092, 0.044605043, 0.014901367, -0.0030124679, 0.05538837, -0.02197704, -0.012644228, 0.039482255, 0.015863659, 0.016259896, -0.004086201, 0.0045814984, -0.013146601, -0.0022589087, -0.01630235, -0.02408559, -0.0050095767, -0.015835356, -0.017292945, 0.03911432, 0.0462749, 0.051171266, -0.04528431, -0.034161348, 0.0357463, 0.011639482, -0.0015964487, 0.029831037, -0.010854082, 0.008696002, 0.0024181113, 0.029632919, -0.021396834, 0.0031327542, -0.008144099, -0.024651645, -0.03543497, 0.005971868, 0.022868576, -0.03438777, 0.007896451, -0.002400422, -0.017519366, -0.030538606, 0.019726977, -0.025387514, -0.026378108, 0.043812566, -0.012205536, 0.0058374302, -0.03079333, 0.004432909, 0.07788901, 0.019684521, -0.01809957, -0.047916457, -0.0003573215, 0.05983189, 0.0077549377, -0.04341633, 0.01849581, -0.00012515097, -0.018863745, 0.0420578, -0.013330568, 0.0012603543, -0.005582706, -0.030114064, -0.008653548, 0.033906624, 0.0071464297, -0.028656475, 0.02448183, -0.043246515, -0.025472423, 0.025996022, -0.017052371, 0.007220724, 0.0036404338, -0.0483693, 0.0035572946, -0.0009348733, -0.052529797, -0.02775079, 0.039340742, 0.03919923, -0.0142928595, -0.05937905, -0.017476913, -0.012594698, -0.0047336253, 0.02377426, -0.007945981, -0.044831466, -0.024467677, 0.039991703, -0.013075843, 0.035151944, 0.044237107, -0.0010118212, 0.04783155, 0.049558014, 0.0044187577, 0.010854082, 0.004305547, 0.0024039599, 0.015113638, -0.039142624, 0.027694184, -0.018679777, 0.045991875, 0.0841156, -0.021566652, -0.04058606, 0.012219687, 0.004885752, -0.027892303, -0.015141941, 0.025500726, -0.006269046, 0.020745873, 0.023307268, 0.003934074, 0.01609008, -0.012290444, -0.023958229, -0.045850363, 0.023745958, 0.026236596, -2.669961e-05, -0.044831466, -0.01293433, 0.006983689, -0.0077337106, 0.015127789, 0.042963486, 0.00851911, 0.030453697, -0.016174989, 0.0016521696, 0.02176477, 0.020873236, 0.0076205, -0.049133472, 0.025911115, 0.0024517206, 0.030623512, -0.003743031, -0.025302606, 0.05719974, -0.010280953, 0.014016909, 0.015481573, -0.041038904, -0.039086018, -0.005579168, -0.03710483, 0.02282612, -0.001286888, 0.01955716, 0.004238328, 0.0194581, 0.025033731, -0.010337559, 0.019896792, 0.0054128896, 0.024779007, -0.009000256, -0.0042807823, -0.025076184, -0.036340658, -0.009608764, -0.016599528, -0.021156263, -0.034472678, -0.012170157, 0.04868063, 0.028373448, 0.025698844, -0.0070438324, 0.028514963, -0.036538776, 0.032661308, -0.0023243586, -0.04616169, 0.04477486, -0.020675117, -0.073247366, -0.07624745, 0.024326164, -0.018453356, -0.024679948, 0.039255835, -0.005253687, 0.00012327149, 0.0009561003, -0.024552586, 0.0039199227, -0.032406583, 0.0045779604, -0.036114234, -0.027665881, -0.0136702005, -0.04531261, 0.055360064, -0.0102101965, 0.072511494, -0.03017067, 0.0031911286, -0.016259896, 0.0630584, -0.039029412, -0.004411682, -0.014689097, -0.00057843624, 0.014101816, 0.011646558, -0.030114064, 0.027481914, -0.02511864, -0.011009747, -0.0053421333, -0.022104403, -0.03730295, -0.07443608, -0.030765027, -0.02753852, 0.04961462, -0.01545327, -0.012757438, 0.039765283, -0.053067546, 0.018623171, 0.017236339, 0.02080248, -0.051793925, -0.04352954, -0.0026463016, 0.010231423, 0.03583121, 0.02313745, 0.01975528, -0.024014834, -0.0184109, 0.061020605, -0.01702407, 0.01035171, -0.008611094, -0.032661308, -0.024340315, -0.014009832, -0.034982126, -0.008533262, 0.0357463, -0.051652413, 0.07488892, 0.016741043, -0.04802967, 0.0009693672, -0.0105215255, -0.023179905, -0.008653548, -0.045142792, 0.010613509, -0.016641984, -0.009743202, 0.035576485, -0.004110966, -0.007592197, 0.018750533, -0.0048326845, 0.005565017, 0.04562394, 0.021991191, 0.0043090847, -0.036227446, 0.03461419, 0.004712398, -0.007266716, -0.017505215, -0.027595125, 0.030934842, 0.03353869, -0.0133588705, -0.00851911, -0.0059152627, -0.032859426, 0.06758683, 0.020278879, -0.0016857791, -0.013599443, -0.012615925, 0.0032778054, -0.0073870025, -0.0012506252, -0.0013744495, -0.022783667, 0.028062118, -0.029264983, -0.033057544, 0.018863745, 0.034812313, 0.041180417, 0.010634736, 0.024878066, 0.01829769, -0.0008844591, -0.03775579, -0.009339889, -0.007868148, -0.006233668, 0.043048393, -0.022514792, 0.022146856, 0.03017067, -0.019061863, -0.044520136, -0.0080591915, 0.0093681915, 0.044095594, 0.011993266, -0.034472678, -0.006453014, 0.02009491, -0.0047265496, -0.053775113, -0.011229093, -0.026746044, 0.03090654, -0.0006885514, 0.00038783532, -0.012927255, -0.0033857096, -0.03424626, -0.071945444, -0.020363787, -0.040557757, -0.005214771, -0.013627746, -0.023038391, 0.011222017, 0.022161007, 0.010344634, 0.022330824, 0.003398092, -0.0008884392, 0.010245575, 0.008554488, -0.029576313, -0.0002883337, -0.01777409, -0.042425737, 0.010648888, -0.03554818, 0.0012099401, 0.058190335, -0.008759683, 0.016557075, -0.03987849, 0.012941406, 0.019302435, -0.011214942, 0.02040624, 0.005126325, 0.03079333, -0.010295104, -0.0023756572, 0.0059364894, -0.0059471033, -0.015269303, -0.0008145869, 0.022274218, -0.0060213977, 0.0029116394, -0.008674775, -0.0028391138, -0.020660965, 0.010981444, -0.04964292, -0.012531017, -0.023745958, -0.007726635, -0.017406156, -0.025161093, 0.010344634, -0.02040624, 0.01849581, -0.004089739, 0.0066086785, 0.008858742, 0.0168118, 0.06390748, -0.0033644824, -0.0065485355, -0.000107517066, -0.060397945, 0.030623512, -0.015934415, -0.0048326845, 0.00043316386, -0.03251979, -0.0132951895, 0.025401667, -0.004868063, -0.010535677, -0.007486062, 0.0015389589, 0.007655878, -0.0157646, -0.00051342853, -0.004358615, 0.011462591, -0.010953141, 0.0054659573, 0.0336236, 0.0060956925, 0.006902319, 0.048907053, -0.027071524, -0.03251979, -0.011759768, -0.01324566, 0.07381342, 0.040529456, -0.0040083686, -0.04466165, 0.0010427773, -0.016047627, -0.023094997, -0.04268046, -0.011059277, 0.034840614, -0.00233851, -0.004910517, -0.03829354, -0.04067097, 0.02197704, -0.006293811, 0.013698503, 0.016557075, 0.0040720496, -0.01734955, -0.033793416, -0.008802137, 0.018906198, -0.0073728515, 0.030453697, 0.0045142793, -0.010181894, -0.0059152627, -0.030057458, -0.024142196, -0.028345145, -0.015637238, 0.049869344, -0.044831466, -0.029264983, 0.0032778054, -0.01914677, 0.014328238, 0.023661051, -0.009941321, 0.007938905, -0.04236913, 0.022458186, -0.020434543, -0.04709568, 0.0042984714, 0.021609105, -0.010245575, -0.016656134, 0.0025348598, -0.028755534, 0.027368704, -0.046529625, -0.01872223, 0.007457759, -0.01224799, -0.0016159068, 0.0069730757, 0.016274048, 0.01672689, 0.043246515, 0.018014664, 0.03175562, 0.01376926, -0.036453865, 0.00080087775, -0.05708653, -0.017108977, -0.002989472, -0.024156347, -0.024425223, -0.00072437205, -0.018439204, 0.05459589, 0.01088946, 0.0098351855, -0.0050060386, 0.008087494, 0.0019228142, -0.0036404338, 0.028868746, 0.013012162, 0.025373364, 0.007896451, -0.011059277, -0.07432287, -0.029378194, -0.028302692, -0.0016327115, 0.027354551, -0.002683449, -0.01087531, 0.010861158, 0.0076205, -0.004493052, -0.041350234, -0.015212697, -0.029151773, -0.0129201785, -0.060850788, 0.0033061083, -0.03701992, 0.019104317, 0.03251979, -0.008604018, -0.0068881675, -0.0026250747, 0.0037607201, 0.024340315, 0.022882726, 0.025826206, 0.0037076527, -0.0027294408, -0.012842347, 0.00570653, -0.011420136, -0.006205365, -0.013500384, -0.073303975, 0.020844933, -0.00904271, -0.0047690035, -0.0113635305, -0.030453697, -0.0157646, 0.017575972, -0.020646814, -0.06294519, 0.0024481828, 0.006495468, 0.0011029205, 0.02019397, -0.02217516, 0.0055473275, 0.047435313, -0.042765368, -0.01461834, 0.015679691, 0.013797563, 0.018042967, -0.021651559, 0.010755023, -0.021651559, 0.021594955, -0.0084625045, -0.03334057, -0.03670859, 0.020632662, -0.0043975306, -0.020165669, -0.0066829734, 0.009113466, 0.016981615, -0.015382513, 0.036765195, 0.029406497, 0.010160666, 0.03857657, -0.0066794353, 0.01250979, 0.001525692, 0.025642239, -0.0012957326, -0.024255406, -0.02439692, -0.02009491, 0.042623855, -0.029774431, -0.024198802, -0.011505044, 0.041463442, -0.017080674, 0.031444293, -0.019543009, 0.010075758, 0.032717913, -0.00045107416, 0.03113296, -0.01965622, 0.032576397, 0.0048539117, -0.045142792, 0.004432909, 0.0062018274, -0.009934245, -0.034331165, 0.011844677, -0.02848666, 0.022684608, -0.038463358, -0.00050635287, -0.0079955105, 0.0041463445, 0.001710544, -0.010967293, 0.0026321504, -0.023604445, 0.003983604, 0.0013514536, -0.022359127, 0.00061248796, -0.0063079624, -0.01976943, -0.0022872114, 0.02070342, -0.0065662246, -0.029378194, 0.0052253846, -0.008257311, 0.0072525647, 0.03113296, -0.0071994974, 0.004068512, 0.037246343, -0.0074082296, -0.000649193, 0.016344804, 0.012325822, -0.0056746895, 0.0007349855, 0.014873065, -0.03823694, 0.00086544326, -0.0034175501, 0.01040124, -0.0157646, -0.028330995, 0.011427212, -0.01743446, -0.030849934, -0.03532176, 0.035604786, -0.0147315515, -0.0045072036, 0.03277452, 0.017377853, -0.00873138, 0.026038477, -0.035265155, 0.035406668, 0.045680545, -0.042454038, 0.038406752, -0.008313916, -0.010471996, 0.019925095, 0.0072278, -0.021425137, 0.0039729904, -0.027283795, 0.030708421, -0.004804382, -0.027411157, 0.00041215794, 0.03554818, 0.011752693, -0.0010250881, 0.019231679, -9.933582e-05, -0.028953655, -0.008328067, 0.006385795, -0.014519281, 0.014901367, 0.023901623, -0.033566993, -0.015849508, 0.048567418, 0.021920435, 0.042623855, -0.0056782276, 0.0022642154, 0.0025030193, -0.009608764, 0.0037359553, 0.0008048578, 0.032010343, 0.0094318725, -0.025628088, 0.008172402, 0.00040132334, -0.050746728, 0.026010174, -0.017561821, -0.0019228142, 0.025911115, 0.010882385, 0.0061770626, 0.022543095, 0.011016822, -0.0060921544, -0.03953886, -0.0055968575, -0.016981615, -0.005823279, -0.028246086, 2.115792e-05, 0.013960303, 0.032944333, 0.019288285, -0.037246343, 0.022599699, 0.016288199, 0.022995938, 0.037048224, -0.015057032, 0.023208207, 0.017321248, 0.043020092, -0.049699526, 0.05490722, 0.054850616, 0.014816459, -0.005055568, -0.006559149, 0.008002586, 0.033821717, 0.0040154443, -0.0036227445, -0.0006253126, 0.012927255, 0.041350234, -0.02776494, 0.026646985, 0.024835613, 0.010549828, -0.028415903, -0.025246002, 0.035717998, -0.011646558, -0.0039305366, 0.02040624, -0.0059647923, -0.0015442657, -0.0013346488, 0.026717741, -0.012707909, -0.035095338, -0.017844846, -0.03314245, 0.0054411925, 0.009276208, 0.011505044, 0.003592673, -0.04406729, -0.013677276, -0.025826206, 0.017830696, -0.023406327, -0.013210282, -0.0067537297, 0.008816289, 0.016557075, 0.0044010687, 0.027920606, -0.0041852607, 0.01777409, 0.026434714, 0.018637322, 0.0009242598, 0.008122873, 0.011427212, -0.0023845017, -0.012417806, 0.00041038904, 0.015623086, 0.019896792, -0.0066475947, -0.01461834, -0.0011674861, -0.013663124, 0.010542753, 0.020307181, 0.025613936, -0.025161093, -0.02616584, -4.0933875e-05, 0.029802734, 0.021849679, 0.0026356883, 0.0039022337, -0.0021173952, -0.0041428064, 0.001818448, 0.0048079197, 0.019316588, 0.020236425, 0.007910603, 0.024312012, -0.010082834, -0.019811884, 0.0035148405, -0.006516695, -0.015368362, 0.0005059106, -0.012778666, 0.0073728515, 0.018920349, 0.01965622, 0.0046840957, -0.023830866, 0.0031893596, 0.011738542, 0.04435032, -0.03215186, 0.031897135, 0.0129201785, 0.0039482256, -0.011972039, -0.00022620043, -0.00428432, -0.0054022763, -0.019571312, -0.034670796, -0.030057458, -0.010111136, 0.017943908, -0.015679691, 0.017151432, -0.0168118, -0.024283709, 0.020066608, -0.004609801, 0.022967635, -0.030680118, -0.034104742, -0.012877725, 0.02376011, 0.062379133, 0.0031433678, 3.6207544e-05, -0.033368874, 0.00034781356, -0.009247905, -0.028684778, -0.050293885, -0.016061777, -0.009983774, 0.053152457, -0.016783496, -0.028543266, 0.017491063, -0.0021474666, -0.00038297081, -0.013422552, 0.06436032, -0.008342219, -0.037812397, -0.018920349, -0.015707994, 0.0025808518, 0.0051369388, 0.008250235, -0.019840186, 0.0037501068, -0.037274644, -0.010344634, 0.01556648, -0.006976614, 0.025613936, 0.004868063, -0.026958315, 0.03407644, -0.012325822, 0.00051342853, 0.03911432, -0.015439118, 0.00011265798, 0.01934489, 0.013210282, 0.032038648, 0.0070226053, 0.016472166, -0.0063044247, -0.012573471, 0.008957802, 0.014384843, 0.09515365, -0.011306926, 0.0009702517, -0.025896963, -0.028981956, -0.0025065572, -0.0037854852, -0.014689097, -0.03113296, 0.02250064, -0.004875139, 0.036736894, -0.026590379, 0.05646387, -0.010486147, -0.040869087, -0.006315038, 0.016429713, -0.0073870025, -0.007960132, -0.0060037086, -0.01324566, -0.023915775, -0.036850106, -0.042821974, -0.026887557, -0.020151516, 0.0050308034, -0.012601773, 0.0051864684, 0.024750704, 0.0017406156, -0.0016194447, -0.0063291895, 0.013479157, 0.003923461, -0.019387344, -0.015410815, -0.0009083395, 0.004740701, 0.0068881675, 0.009658294, 0.027708335, -0.036029328, 0.021736467, -0.009757353, 0.0128281955, -0.04140684, -0.00058285857, 0.034529284, 0.00018827924, 0.038519964, -0.00999085, 0.02649132, -0.025628088, 0.025500726, -0.04089739, -0.02124117, 0.014101816, -0.009410645, -0.011292774, 0.0068527893, 0.016925009, 0.0066546705, 0.037246343, 0.01077625, 0.022528943, 0.044406924, 0.014604189, 0.023816716, -0.010436618, 0.033029243, -0.0042347903, -0.0065237703, 0.0060037086, -0.013472081, -0.025175244, -0.030651815, -0.021849679, -0.054114748, -0.019896792, 0.02691586, 0.04709568, 0.0050980225, 0.01051445, -0.018439204, -0.0027170584, -0.0078044673, 0.009155921, -0.005303217, 0.005002501, 0.03334057, 0.009580461, 0.0032300446, -0.008533262, -0.010847007, 0.0028302693, 0.015283453, 0.02008076, -0.0023261276, 0.013238585, -0.03314245, -0.0012249759, -0.008696002, 0.019826036, -0.054680802, -0.0038173257, 0.0015619549, 0.009007332, -0.0029487868, -0.0032530406, 0.014285784, 0.012757438, -0.041718166, 0.03121787, -0.02377426, -0.026873406, -0.008080418, -0.04321821, -0.015736297, 0.036001023, -0.036453865, 0.0048149955, 0.012665454, 0.025359211, 0.024906369, 0.017533518, 0.04497298, 0.019302435, -0.00043758616, 0.012056947, -0.0004833569, 0.035774603, -0.007220724, 0.016118383, 0.031076355, -0.00091276184, -0.022868576, 0.016641984, 0.014957973, 0.030963145, -0.009948396, 0.037359554, 0.013479157, 0.0069553866, -0.0013939076, 0.026944162, -0.02554318, 0.0009083395, -0.024028985, -0.008328067, -0.029151773, 0.004914055, 0.00048954814, 0.028514963, 0.060964, -0.023420477, -0.010330482, 0.019783583, -0.014215027, 0.006877554, -0.024000682, 0.013924925, 0.003633358, 0.01461834, -0.0031044516, -0.011441363, -0.016571226, 0.00930451, 0.001903356, -0.0029027949, -0.007040295, 0.0072278, 0.0055508655, -0.037048224, 0.013939076, -0.02923668, 0.060567763, -0.0076983324, -0.011915433, -0.027481914, -0.011483817, 0.0073233214, -0.019613765, 0.02923668, 0.01376926, -0.0068032597, -0.024609191, -0.010804553, -0.05301094, 0.023392174, 0.006407022, -0.0025596246, 0.028783837, -0.012580547, -0.028713081, -0.02974613, -0.021467593, 0.02209025, -0.055614788, -0.014370692, -0.014774005, 0.023392174, 0.032944333, -0.0009242598, 0.014200876, 0.017830696, 0.013875395, -0.046501324, -0.015368362, 0.016868405, 0.0011356456, 0.012382428, 0.041576654, 0.029406497, 0.02197704, -0.043359723, -0.0122975195, -0.03353869, -0.003873931, -0.0039057715, -0.019047711, -0.001903356, 0.004139269, -0.027977211, -0.0205053, -4.9502072e-05, 0.0035183784, -0.031161264, -0.027184736, 0.048737235, 0.0123612005, 0.006449476, -0.009842261, 0.013309341, 0.018892046, -0.0039517633, -0.03636896, -0.016868405, 0.017377853, 0.019854339, -0.019528858, 0.017406156, -0.010330482, -0.02765173, 0.038463358, 0.015410815, 0.035972722, -0.017547669, 0.018594868, -0.011568725, -0.021382684, 0.038095422, -0.0038350148, -0.0020714032, -0.0024269558, 0.018170329, 0.004358615, -0.010443693, 0.0031486745, 0.022953482, 0.016288199, 0.024637494, 0.025246002, 0.0070367567, 0.0076912567, -0.011788071, -0.012474411, 0.008243159, 0.007493138, -0.011023899, -0.01976943, -0.0002617999, -0.018906198, -0.02279782, 0.03251979, -0.008158251, -0.0023438167, -0.006233668, -0.019203376, 0.0005010461, 0.037501067, -0.014045211, -0.018948652, -0.015042881, 0.0041887984, -0.0017211575, 0.045906965, -0.031048054, -0.013097071, -0.017108977, -0.0024853302, 0.0040614363, 0.015538177, -0.0024587964, 0.024934672, 0.027524369, -0.020222273, 0.0157646, -0.0062195165, 0.04067097, -0.0039022337, -0.030029155, 0.04559564, 0.009262056, 0.034019835, -0.01087531, 0.062322527, 0.018453356, 0.00904271, 0.00029894718, 0.0051334007, 0.0038244012, 0.028444206, 0.008512035, 0.0037890228, -0.0013143063, -0.016373107, -0.01880714, 0.0030354636, 0.0060461625, 0.010026229, -0.0006102768, 0.0028886434, -0.056237448, -0.006233668, 0.023321418, -0.038123727, 0.029887643, 0.0064176354, 0.015396665, 0.014299935, 0.0065025436, 0.016118383, 0.027496066, -0.0014788157, -0.011356455, -0.014186724, 0.0063256514, -0.014278708, -0.016472166, -0.02017982, -0.020745873, -0.02616584, -0.028741384, 0.0013275731, -0.036453865, -0.0039517633, -0.013832941, -0.000816798, 0.008724305, 0.008179478, -0.015340059, -0.023194056, 0.01409474, 0.029321589, 0.014349465, -0.027411157, -0.050095763, -0.04384087, -0.0367935, -0.0072348756, 0.027991362, 0.021821376, 0.0028231936, 0.039482255, -0.043303117, 0.00475839, -0.00036240713, 0.027425308, -0.009467251, 0.014151346, -0.0006226592, -0.037982214, -0.001635365, 0.012170157, 0.020873236, 0.005327982, 0.035774603, 0.03636896, -0.003415781, 0.052190162, -0.009014407, 0.0071888836, 0.02282612, -0.03951056, -0.0035042271, -0.00051077513, 0.027411157]]\n"
     ]
    }
   ],
   "source": [
    "from workshop_code.common_components.vectorizers import Vectorizer\n",
    "\n",
    "example_text_splits = [\"Mary had a\", \"little lamb\"]\n",
    "vectorizer = Vectorizer()\n",
    "embeddings_of_example_splits = vectorizer.vectorize_text_splits(example_text_splits)\n",
    "\n",
    "rows = len(embeddings_of_example_splits)\n",
    "columns = len(embeddings_of_example_splits[0])\n",
    "\n",
    "print(f\"Dimensions: {rows}x{columns}\")\n",
    "print(embeddings_of_example_splits[0:10])"
   ]
  },
  {
   "cell_type": "markdown",
   "metadata": {},
   "source": [
    "## Vector Database: vectordb_client_adapters.py\n",
    "In production settings, you're likely to store your vectors in a database. In this tutorial, we are using Couchbase.\n",
    "\n",
    "### Vector DB Task #1: Understand the indexer code\n",
    "Open `indexers.py` in `./workshop_code/`. Look over how the `CouchbaseClientAdapter` is used, and look at how its methods are implemented. If something doesn't make sense, ask a question.\n",
    "\n",
    "## The Complete Indexer: indexer.py\n",
    "### Indexer Task: test that your indexer works\n",
    "Your indexer should give output like the cheat_code version below:"
   ]
  },
  {
   "cell_type": "code",
   "execution_count": 12,
   "metadata": {},
   "outputs": [
    {
     "name": "stdout",
     "output_type": "stream",
     "text": [
      "Number of text chunks in db: 35\n"
     ]
    }
   ],
   "source": [
    "import time\n",
    "from cheat_code.indexers import NaiveIndexer\n",
    "from cheat_code.common_components.vectorizers import Vectorizer\n",
    "\n",
    "rag_survey_paper_uri = \"https://arxiv.org/html/2312.10997v5\"\n",
    "vectorizer = Vectorizer()\n",
    "indexer = NaiveIndexer(vectorizer)\n",
    "indexer.index(rag_survey_paper_uri)\n",
    "time.sleep(5)\n",
    "num_db_entries = indexer._client_adapter.count_entries()\n",
    "print(f\"Number of text chunks in db: {num_db_entries}\")"
   ]
  },
  {
   "cell_type": "markdown",
   "metadata": {},
   "source": [
    "Run your indexer below to see if it works the same way. If it doesn't, something is broken."
   ]
  },
  {
   "cell_type": "code",
   "execution_count": 14,
   "metadata": {},
   "outputs": [
    {
     "name": "stdout",
     "output_type": "stream",
     "text": [
      "Number of text chunks in db: 35\n"
     ]
    }
   ],
   "source": [
    "import time\n",
    "from workshop_code.indexers import NaiveIndexer\n",
    "from workshop_code.common_components.vectorizers import Vectorizer\n",
    "\n",
    "rag_survey_paper_uri = \"https://arxiv.org/html/2312.10997v5\"\n",
    "vectorizer = Vectorizer()\n",
    "indexer = NaiveIndexer(vectorizer)\n",
    "indexer.index(rag_survey_paper_uri)\n",
    "time.sleep(5)\n",
    "num_db_entries = indexer._client_adapter.count_entries()\n",
    "print(f\"Number of text chunks in db: {num_db_entries}\")"
   ]
  }
 ],
 "metadata": {
  "kernelspec": {
   "display_name": "venv",
   "language": "python",
   "name": "python3"
  },
  "language_info": {
   "codemirror_mode": {
    "name": "ipython",
    "version": 3
   },
   "file_extension": ".py",
   "mimetype": "text/x-python",
   "name": "python",
   "nbconvert_exporter": "python",
   "pygments_lexer": "ipython3",
   "version": "3.11.9"
  }
 },
 "nbformat": 4,
 "nbformat_minor": 2
}

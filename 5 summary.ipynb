{
 "cells": [
  {
   "cell_type": "markdown",
   "metadata": {},
   "source": [
    "# Run Once"
   ]
  },
  {
   "cell_type": "code",
   "execution_count": 1,
   "metadata": {},
   "outputs": [],
   "source": [
    "%load_ext autoreload\n",
    "%autoreload 2\n",
    "\n",
    "from workshop_code.agents import NaiveQaRagAgent\n",
    "from IPython.display import Markdown\n",
    "\n",
    "def display_md(content):\n",
    "  display(Markdown(content))"
   ]
  },
  {
   "cell_type": "code",
   "execution_count": 6,
   "metadata": {},
   "outputs": [],
   "source": [
    "class MockNaiveQaRagAgent:\n",
    "    def __init__(self):\n",
    "        vectorizer = None\n",
    "        self._indexer = None\n",
    "        self._retriever = None\n",
    "        self._generator = None\n",
    "\n",
    "    def query(self, query: str) -> str:\n",
    "        \n",
    "        completion = \"Naive RAG is the earliest methodology in the RAG research paradigm, \"+ \\\n",
    "            \"following a traditional process of indexing, retrieval, and generation within a \\\"Retrieve-Read\\\" framework. \"+\\\n",
    "            \"It involves cleaning and extracting raw data, segmenting text into smaller chunks, \" + \\\n",
    "            \"encoding them into vector representations, and storing them in a vector database for efficient \" + \\\n",
    "            \"similarity searches. Naive RAG represents the initial stage of RAG development before\" + \\\n",
    "            \"Advanced RAG and Modular RAG were introduced to address its limitations.\"\n",
    "        return completion\n",
    "    \n",
    "    def index(self, doc_uri):\n",
    "        return None"
   ]
  },
  {
   "cell_type": "markdown",
   "metadata": {},
   "source": [
    "# Summary\n",
    "You can combine the indexer, retriever, and generator into a convenient abstracted interface like in the code below:"
   ]
  },
  {
   "cell_type": "code",
   "execution_count": 8,
   "metadata": {},
   "outputs": [
    {
     "data": {
      "text/markdown": [
       "Naive RAG is the earliest methodology in the RAG research paradigm, following a traditional process of indexing, retrieval, and generation within a \"Retrieve-Read\" framework. It involves cleaning and extracting raw data, segmenting text into smaller chunks, encoding them into vector representations, and storing them in a vector database for efficient similarity searches. Naive RAG represents the initial stage of RAG development before Advanced RAG and Modular RAG were introduced to address its limitations."
      ],
      "text/plain": [
       "<IPython.core.display.Markdown object>"
      ]
     },
     "metadata": {},
     "output_type": "display_data"
    }
   ],
   "source": [
    "import time\n",
    "\n",
    "doc_uri = \"https://arxiv.org/html/2312.10997v5\"\n",
    "qa_agent = NaiveQaRagAgent()\n",
    "\n",
    "qa_agent.index(doc_uri)\n",
    "time.sleep(5)\n",
    "\n",
    "question = \"What is naive RAG?\"\n",
    "completion = qa_agent.query(question)\n",
    "display_md(completion)"
   ]
  },
  {
   "cell_type": "markdown",
   "metadata": {},
   "source": [
    "## Task: inspect the code\n",
    "Look at the code in `./cheat_code/agents.py`. If anything doesn't make sense, let one of us know."
   ]
  }
 ],
 "metadata": {
  "kernelspec": {
   "display_name": "venv",
   "language": "python",
   "name": "python3"
  },
  "language_info": {
   "codemirror_mode": {
    "name": "ipython",
    "version": 3
   },
   "file_extension": ".py",
   "mimetype": "text/x-python",
   "name": "python",
   "nbconvert_exporter": "python",
   "pygments_lexer": "ipython3",
   "version": "3.11.9"
  }
 },
 "nbformat": 4,
 "nbformat_minor": 2
}
